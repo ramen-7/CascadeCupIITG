{
 "cells": [
  {
   "cell_type": "code",
   "execution_count": 1,
   "id": "8aa4c0ea",
   "metadata": {},
   "outputs": [],
   "source": [
    "import pandas as pd\n",
    "import numpy as np\n",
    "import matplotlib.pyplot as plt\n",
    "import seaborn as sns\n",
    "from sklearn.datasets import load_breast_cancer\n",
    "from sklearn import preprocessing\n",
    "from sklearn.model_selection import train_test_split\n",
    "from sklearn.svm import SVC\n",
    "from sklearn.model_selection import GridSearchCV\n",
    "from sklearn import metrics"
   ]
  },
  {
   "cell_type": "code",
   "execution_count": 2,
   "id": "a4a01396",
   "metadata": {},
   "outputs": [],
   "source": [
    "#define Main method here\n",
    "def main():\n",
    "    #importing data\n",
    "    train_df = pd.read_csv('train.csv')\n",
    "    test_df = pd.read_csv('test.csv')\n",
    "    \n",
    "    order_id = test_df['order_id']\n",
    "    \n",
    "    #preprocessing data\n",
    "    train_df = fix_columns(train_df)\n",
    "    test_df = fix_columns_2(test_df)\n",
    "    \n",
    "    train_df = fix_na(train_df)\n",
    "    test_df = fix_na(test_df)\n",
    "    \n",
    "    y = train_df['cancelled']\n",
    "    X = train_df.drop(['cancelled'], axis = 1)\n",
    "        \n",
    "    X = scale_numeric(X)\n",
    "    test_df = scale_numeric(test_df)\n",
    "    \n",
    "    \n",
    "    param_grid = {'C': [0.1,1, 10, 100], 'gamma': [1,0.1,0.01,0.001]} \n",
    "    grid = GridSearchCV(SVC(),param_grid,refit=True,verbose=2)\n",
    "    preds = grid.fit(X, y).predict(test_df)\n",
    "    \n",
    "\n",
    "    \n",
    "    "
   ]
  },
  {
   "cell_type": "code",
   "execution_count": 3,
   "id": "fa78f701",
   "metadata": {},
   "outputs": [],
   "source": [
    "#Preprocess data\n",
    "def fix_columns(df):\n",
    "    df = df.drop(['order_id', 'order_date', 'reassigned_order', 'reassignment_method', 'reassignment_reason','order_time','session_time','rider_id',], axis = 1)\n",
    "    df['allot_time'] = pd.to_datetime(df['allot_time'])\n",
    "    df['accept_time'] = pd.to_datetime(df['accept_time'])\n",
    "    t1 = df['accept_time'] - df['allot_time']\n",
    "    df['accept_duration'] = t1\n",
    "    df = df.drop(['allot_time','accept_time','pickup_time','cancelled_time','delivered_time','delivered_orders','alloted_orders'], axis = 1)\n",
    "    df['accept_duration'] = pd.to_timedelta(df['accept_duration']).dt.total_seconds()\n",
    "    return df\n",
    "    \n",
    "def fix_columns_2(df):\n",
    "    df = df.drop(['order_id', 'order_date', 'reassigned_order', 'reassignment_method', 'reassignment_reason','order_time','session_time','rider_id',], axis = 1)\n",
    "    df['allot_time'] = pd.to_datetime(df['allot_time'])\n",
    "    df['accept_time'] = pd.to_datetime(df['accept_time'])\n",
    "    t1 = df['accept_time'] - df['allot_time']\n",
    "    df['accept_duration'] = t1\n",
    "    df = df.drop(['allot_time','accept_time','delivered_orders','alloted_orders'], axis = 1)\n",
    "    df['accept_duration'] = pd.to_timedelta(df['accept_duration']).dt.total_seconds()\n",
    "    return df\n",
    "\n",
    "def fix_na(df):\n",
    "    df['undelivered_orders']=df['undelivered_orders'].fillna(1)\n",
    "    df = df.dropna()\n",
    "    return df\n",
    "\n",
    "def fix_na_2(df):\n",
    "    df['undelivered_orders']=df['undelivered_orders'].fillna(1)\n",
    "    df['lifetime_order_count'] = df['lifetime_order_count'].fillna(method = 'bfill')\n",
    "    df['accept_duration'] = \n",
    "    return df\n",
    "\n",
    "def scale_numeric(df):\n",
    "    x = df.values \n",
    "    scaler = preprocessing.StandardScaler()\n",
    "    x_scaled = scaler.fit_transform(x)\n",
    "    df = pd.DataFrame(x_scaled)\n",
    "    return df"
   ]
  },
  {
   "cell_type": "code",
   "execution_count": 4,
   "id": "e4f7a944",
   "metadata": {},
   "outputs": [],
   "source": [
    "# Train model\n",
    "def train(model,X_train, y_train):\n",
    "    model.fit(X_train, y_train)\n",
    "    return model"
   ]
  },
  {
   "cell_type": "code",
   "execution_count": null,
   "id": "fcbdd3b4",
   "metadata": {},
   "outputs": [],
   "source": [
    "#Evaluate Model\n",
    "def evaluate(model, X_test, y_test, plot = True, print_results=True, bl=False):\n",
    "    y_pred = model.predict(X_test)\n",
    "    cm = metrics.confusion_matrix(y_test, y_pred)\n",
    "    acc = metrics.accuracy_score(y_test, y_pred)\n",
    "    if print_results:\n",
    "      if bl:\n",
    "        print('\\n\\nBaseline Model Performance on Test Dataset:\\n')\n",
    "      else:\n",
    "        print('\\n\\nBest Model Performance on Test Dataset:\\n')\n",
    "      print('\\nConfusion Matrix:\\n',cm)\n",
    "      print(f'Accuracy: {acc*100}%')\n",
    "\n",
    "    if plot:\n",
    "      sns.heatmap(cm, annot= True)\n",
    "      plt.show()\n",
    "    return"
   ]
  },
  {
   "cell_type": "code",
   "execution_count": null,
   "id": "b07bdc14",
   "metadata": {},
   "outputs": [],
   "source": [
    "#Improve Model\n",
    "def optimize_models(X_train, y_train):\n",
    "  params = {'kernel':['rbf'], 'C':[1.0, 5.0, 10]}\n",
    "  model = SVC(random_state=5)\n",
    "  clf = GridSearchCV(model, params)\n",
    "  clf.fit(X_train, y_train)\n",
    "  return clf.best_params_"
   ]
  },
  {
   "cell_type": "code",
   "execution_count": null,
   "id": "9cf0dfa6",
   "metadata": {
    "scrolled": false
   },
   "outputs": [
    {
     "name": "stdout",
     "output_type": "stream",
     "text": [
      "Fitting 5 folds for each of 16 candidates, totalling 80 fits\n",
      "[CV] END .....................................C=0.1, gamma=1; total time=23.1min\n",
      "[CV] END .....................................C=0.1, gamma=1; total time=14.3min\n",
      "[CV] END .....................................C=0.1, gamma=1; total time=13.5min\n",
      "[CV] END .....................................C=0.1, gamma=1; total time=12.6min\n",
      "[CV] END .....................................C=0.1, gamma=1; total time=12.6min\n"
     ]
    }
   ],
   "source": [
    "# call the main function\n",
    "if __name__ == '__main__':\n",
    "    main()"
   ]
  },
  {
   "cell_type": "code",
   "execution_count": 1,
   "id": "3356e1f4",
   "metadata": {},
   "outputs": [
    {
     "ename": "NameError",
     "evalue": "name 'model' is not defined",
     "output_type": "error",
     "traceback": [
      "\u001b[1;31m---------------------------------------------------------------------------\u001b[0m",
      "\u001b[1;31mNameError\u001b[0m                                 Traceback (most recent call last)",
      "\u001b[1;32m<ipython-input-1-708a8696615c>\u001b[0m in \u001b[0;36m<module>\u001b[1;34m\u001b[0m\n\u001b[1;32m----> 1\u001b[1;33m \u001b[0mpred\u001b[0m \u001b[1;33m=\u001b[0m \u001b[0mmodel\u001b[0m\u001b[1;33m.\u001b[0m\u001b[0mpredict\u001b[0m\u001b[1;33m(\u001b[0m\u001b[0mtest_df\u001b[0m\u001b[1;33m)\u001b[0m\u001b[1;33m\u001b[0m\u001b[1;33m\u001b[0m\u001b[0m\n\u001b[0m",
      "\u001b[1;31mNameError\u001b[0m: name 'model' is not defined"
     ]
    }
   ],
   "source": [
    "pred = model.predict(test_df)"
   ]
  }
 ],
 "metadata": {
  "kernelspec": {
   "display_name": "Python 3",
   "language": "python",
   "name": "python3"
  },
  "language_info": {
   "codemirror_mode": {
    "name": "ipython",
    "version": 3
   },
   "file_extension": ".py",
   "mimetype": "text/x-python",
   "name": "python",
   "nbconvert_exporter": "python",
   "pygments_lexer": "ipython3",
   "version": "3.8.8"
  }
 },
 "nbformat": 4,
 "nbformat_minor": 5
}
