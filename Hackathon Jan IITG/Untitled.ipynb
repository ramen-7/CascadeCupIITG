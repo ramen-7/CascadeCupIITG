{
 "cells": [
  {
   "cell_type": "code",
   "execution_count": 1,
   "id": "eff73bd9",
   "metadata": {},
   "outputs": [],
   "source": [
    "import matplotlib.pyplot as plt\n",
    "import pandas as pd\n",
    "import numpy as np\n",
    "import seaborn as sns"
   ]
  },
  {
   "cell_type": "code",
   "execution_count": 2,
   "id": "7a39080b",
   "metadata": {},
   "outputs": [],
   "source": [
    "df = pd.read_csv('train.csv')"
   ]
  },
  {
   "cell_type": "code",
   "execution_count": 3,
   "id": "7fab8899",
   "metadata": {
    "scrolled": false
   },
   "outputs": [
    {
     "data": {
      "text/html": [
       "<div>\n",
       "<style scoped>\n",
       "    .dataframe tbody tr th:only-of-type {\n",
       "        vertical-align: middle;\n",
       "    }\n",
       "\n",
       "    .dataframe tbody tr th {\n",
       "        vertical-align: top;\n",
       "    }\n",
       "\n",
       "    .dataframe thead th {\n",
       "        text-align: right;\n",
       "    }\n",
       "</style>\n",
       "<table border=\"1\" class=\"dataframe\">\n",
       "  <thead>\n",
       "    <tr style=\"text-align: right;\">\n",
       "      <th></th>\n",
       "      <th>order_time</th>\n",
       "      <th>order_id</th>\n",
       "      <th>order_date</th>\n",
       "      <th>allot_time</th>\n",
       "      <th>accept_time</th>\n",
       "      <th>pickup_time</th>\n",
       "      <th>delivered_time</th>\n",
       "      <th>rider_id</th>\n",
       "      <th>first_mile_distance</th>\n",
       "      <th>last_mile_distance</th>\n",
       "      <th>alloted_orders</th>\n",
       "      <th>delivered_orders</th>\n",
       "      <th>cancelled</th>\n",
       "      <th>undelivered_orders</th>\n",
       "      <th>lifetime_order_count</th>\n",
       "      <th>reassignment_method</th>\n",
       "      <th>reassignment_reason</th>\n",
       "      <th>reassigned_order</th>\n",
       "      <th>session_time</th>\n",
       "      <th>cancelled_time</th>\n",
       "    </tr>\n",
       "  </thead>\n",
       "  <tbody>\n",
       "    <tr>\n",
       "      <th>0</th>\n",
       "      <td>2021-01-26 02:21:35</td>\n",
       "      <td>556753</td>\n",
       "      <td>2021-01-26 00:00:00</td>\n",
       "      <td>2021-01-26 02:21:59</td>\n",
       "      <td>2021-01-26 02:22:08</td>\n",
       "      <td>2021-01-26 02:32:51</td>\n",
       "      <td>2021-01-26 02:49:47</td>\n",
       "      <td>11696</td>\n",
       "      <td>1.5666</td>\n",
       "      <td>2.65</td>\n",
       "      <td>46.0</td>\n",
       "      <td>46.0</td>\n",
       "      <td>0</td>\n",
       "      <td>0.0</td>\n",
       "      <td>621.0</td>\n",
       "      <td>NaN</td>\n",
       "      <td>NaN</td>\n",
       "      <td>NaN</td>\n",
       "      <td>NaN</td>\n",
       "      <td>NaN</td>\n",
       "    </tr>\n",
       "    <tr>\n",
       "      <th>1</th>\n",
       "      <td>2021-01-26 02:33:16</td>\n",
       "      <td>556754</td>\n",
       "      <td>2021-01-26 00:00:00</td>\n",
       "      <td>2021-01-26 02:33:57</td>\n",
       "      <td>2021-01-26 02:34:45</td>\n",
       "      <td>2021-01-26 02:50:25</td>\n",
       "      <td>2021-01-26 03:11:15</td>\n",
       "      <td>18117</td>\n",
       "      <td>2.5207</td>\n",
       "      <td>2.76</td>\n",
       "      <td>8.0</td>\n",
       "      <td>8.0</td>\n",
       "      <td>0</td>\n",
       "      <td>0.0</td>\n",
       "      <td>105.0</td>\n",
       "      <td>NaN</td>\n",
       "      <td>NaN</td>\n",
       "      <td>NaN</td>\n",
       "      <td>3.266667</td>\n",
       "      <td>NaN</td>\n",
       "    </tr>\n",
       "    <tr>\n",
       "      <th>2</th>\n",
       "      <td>2021-01-26 02:39:49</td>\n",
       "      <td>556755</td>\n",
       "      <td>2021-01-26 00:00:00</td>\n",
       "      <td>2021-01-26 02:39:57</td>\n",
       "      <td>2021-01-26 02:40:13</td>\n",
       "      <td>2021-01-26 02:56:00</td>\n",
       "      <td>2021-01-26 03:12:46</td>\n",
       "      <td>18623</td>\n",
       "      <td>2.2074</td>\n",
       "      <td>4.80</td>\n",
       "      <td>1.0</td>\n",
       "      <td>1.0</td>\n",
       "      <td>0</td>\n",
       "      <td>0.0</td>\n",
       "      <td>66.0</td>\n",
       "      <td>NaN</td>\n",
       "      <td>NaN</td>\n",
       "      <td>NaN</td>\n",
       "      <td>9.816667</td>\n",
       "      <td>NaN</td>\n",
       "    </tr>\n",
       "    <tr>\n",
       "      <th>3</th>\n",
       "      <td>2021-01-26 02:47:53</td>\n",
       "      <td>556756</td>\n",
       "      <td>2021-01-26 00:00:00</td>\n",
       "      <td>2021-01-26 02:48:25</td>\n",
       "      <td>2021-01-26 02:49:06</td>\n",
       "      <td>2021-01-26 03:21:51</td>\n",
       "      <td>2021-01-26 03:41:05</td>\n",
       "      <td>15945</td>\n",
       "      <td>2.1894</td>\n",
       "      <td>6.38</td>\n",
       "      <td>1.0</td>\n",
       "      <td>1.0</td>\n",
       "      <td>0</td>\n",
       "      <td>0.0</td>\n",
       "      <td>127.0</td>\n",
       "      <td>NaN</td>\n",
       "      <td>NaN</td>\n",
       "      <td>NaN</td>\n",
       "      <td>17.533333</td>\n",
       "      <td>NaN</td>\n",
       "    </tr>\n",
       "    <tr>\n",
       "      <th>4</th>\n",
       "      <td>2021-01-26 03:06:30</td>\n",
       "      <td>556757</td>\n",
       "      <td>2021-01-26 00:00:00</td>\n",
       "      <td>2021-01-26 03:07:21</td>\n",
       "      <td>2021-01-26 03:07:57</td>\n",
       "      <td>2021-01-26 03:31:38</td>\n",
       "      <td>2021-01-26 04:00:15</td>\n",
       "      <td>17589</td>\n",
       "      <td>2.7870</td>\n",
       "      <td>4.01</td>\n",
       "      <td>34.0</td>\n",
       "      <td>34.0</td>\n",
       "      <td>0</td>\n",
       "      <td>0.0</td>\n",
       "      <td>84.0</td>\n",
       "      <td>NaN</td>\n",
       "      <td>NaN</td>\n",
       "      <td>NaN</td>\n",
       "      <td>1.350000</td>\n",
       "      <td>NaN</td>\n",
       "    </tr>\n",
       "  </tbody>\n",
       "</table>\n",
       "</div>"
      ],
      "text/plain": [
       "            order_time  order_id           order_date           allot_time  \\\n",
       "0  2021-01-26 02:21:35    556753  2021-01-26 00:00:00  2021-01-26 02:21:59   \n",
       "1  2021-01-26 02:33:16    556754  2021-01-26 00:00:00  2021-01-26 02:33:57   \n",
       "2  2021-01-26 02:39:49    556755  2021-01-26 00:00:00  2021-01-26 02:39:57   \n",
       "3  2021-01-26 02:47:53    556756  2021-01-26 00:00:00  2021-01-26 02:48:25   \n",
       "4  2021-01-26 03:06:30    556757  2021-01-26 00:00:00  2021-01-26 03:07:21   \n",
       "\n",
       "           accept_time          pickup_time       delivered_time  rider_id  \\\n",
       "0  2021-01-26 02:22:08  2021-01-26 02:32:51  2021-01-26 02:49:47     11696   \n",
       "1  2021-01-26 02:34:45  2021-01-26 02:50:25  2021-01-26 03:11:15     18117   \n",
       "2  2021-01-26 02:40:13  2021-01-26 02:56:00  2021-01-26 03:12:46     18623   \n",
       "3  2021-01-26 02:49:06  2021-01-26 03:21:51  2021-01-26 03:41:05     15945   \n",
       "4  2021-01-26 03:07:57  2021-01-26 03:31:38  2021-01-26 04:00:15     17589   \n",
       "\n",
       "   first_mile_distance  last_mile_distance  alloted_orders  delivered_orders  \\\n",
       "0               1.5666                2.65            46.0              46.0   \n",
       "1               2.5207                2.76             8.0               8.0   \n",
       "2               2.2074                4.80             1.0               1.0   \n",
       "3               2.1894                6.38             1.0               1.0   \n",
       "4               2.7870                4.01            34.0              34.0   \n",
       "\n",
       "   cancelled  undelivered_orders  lifetime_order_count reassignment_method  \\\n",
       "0          0                 0.0                 621.0                 NaN   \n",
       "1          0                 0.0                 105.0                 NaN   \n",
       "2          0                 0.0                  66.0                 NaN   \n",
       "3          0                 0.0                 127.0                 NaN   \n",
       "4          0                 0.0                  84.0                 NaN   \n",
       "\n",
       "  reassignment_reason  reassigned_order  session_time cancelled_time  \n",
       "0                 NaN               NaN           NaN            NaN  \n",
       "1                 NaN               NaN      3.266667            NaN  \n",
       "2                 NaN               NaN      9.816667            NaN  \n",
       "3                 NaN               NaN     17.533333            NaN  \n",
       "4                 NaN               NaN      1.350000            NaN  "
      ]
     },
     "execution_count": 3,
     "metadata": {},
     "output_type": "execute_result"
    }
   ],
   "source": [
    "df.head()"
   ]
  },
  {
   "cell_type": "code",
   "execution_count": 4,
   "id": "93fba2b4",
   "metadata": {},
   "outputs": [],
   "source": [
    "test_df = pd.read_csv('test.csv')"
   ]
  },
  {
   "cell_type": "code",
   "execution_count": 5,
   "id": "99a3898f",
   "metadata": {},
   "outputs": [
    {
     "data": {
      "text/html": [
       "<div>\n",
       "<style scoped>\n",
       "    .dataframe tbody tr th:only-of-type {\n",
       "        vertical-align: middle;\n",
       "    }\n",
       "\n",
       "    .dataframe tbody tr th {\n",
       "        vertical-align: top;\n",
       "    }\n",
       "\n",
       "    .dataframe thead th {\n",
       "        text-align: right;\n",
       "    }\n",
       "</style>\n",
       "<table border=\"1\" class=\"dataframe\">\n",
       "  <thead>\n",
       "    <tr style=\"text-align: right;\">\n",
       "      <th></th>\n",
       "      <th>order_time</th>\n",
       "      <th>order_id</th>\n",
       "      <th>order_date</th>\n",
       "      <th>allot_time</th>\n",
       "      <th>accept_time</th>\n",
       "      <th>rider_id</th>\n",
       "      <th>first_mile_distance</th>\n",
       "      <th>last_mile_distance</th>\n",
       "      <th>alloted_orders</th>\n",
       "      <th>delivered_orders</th>\n",
       "      <th>undelivered_orders</th>\n",
       "      <th>lifetime_order_count</th>\n",
       "      <th>reassignment_method</th>\n",
       "      <th>reassignment_reason</th>\n",
       "      <th>reassigned_order</th>\n",
       "      <th>session_time</th>\n",
       "    </tr>\n",
       "  </thead>\n",
       "  <tbody>\n",
       "    <tr>\n",
       "      <th>0</th>\n",
       "      <td>2021-02-06 10:03:24</td>\n",
       "      <td>130231</td>\n",
       "      <td>2021-02-06 00:00:00</td>\n",
       "      <td>2021-02-06 10:03:49</td>\n",
       "      <td>2021-02-06 10:04:15</td>\n",
       "      <td>12884</td>\n",
       "      <td>1.6585</td>\n",
       "      <td>4.54</td>\n",
       "      <td>216.0</td>\n",
       "      <td>215.0</td>\n",
       "      <td>1.0</td>\n",
       "      <td>747.0</td>\n",
       "      <td>NaN</td>\n",
       "      <td>NaN</td>\n",
       "      <td>NaN</td>\n",
       "      <td>273.400000</td>\n",
       "    </tr>\n",
       "    <tr>\n",
       "      <th>1</th>\n",
       "      <td>2021-02-06 10:03:26</td>\n",
       "      <td>130232</td>\n",
       "      <td>2021-02-06 00:00:00</td>\n",
       "      <td>2021-02-06 10:03:27</td>\n",
       "      <td>2021-02-06 10:03:36</td>\n",
       "      <td>3541</td>\n",
       "      <td>2.0709</td>\n",
       "      <td>5.84</td>\n",
       "      <td>52.0</td>\n",
       "      <td>52.0</td>\n",
       "      <td>0.0</td>\n",
       "      <td>75.0</td>\n",
       "      <td>NaN</td>\n",
       "      <td>NaN</td>\n",
       "      <td>NaN</td>\n",
       "      <td>252.100000</td>\n",
       "    </tr>\n",
       "    <tr>\n",
       "      <th>2</th>\n",
       "      <td>2021-02-06 10:03:27</td>\n",
       "      <td>130233</td>\n",
       "      <td>2021-02-06 00:00:00</td>\n",
       "      <td>2021-02-06 10:04:14</td>\n",
       "      <td>2021-02-06 10:05:34</td>\n",
       "      <td>603</td>\n",
       "      <td>1.3884</td>\n",
       "      <td>0.99</td>\n",
       "      <td>289.0</td>\n",
       "      <td>289.0</td>\n",
       "      <td>0.0</td>\n",
       "      <td>2214.0</td>\n",
       "      <td>NaN</td>\n",
       "      <td>NaN</td>\n",
       "      <td>NaN</td>\n",
       "      <td>241.383333</td>\n",
       "    </tr>\n",
       "    <tr>\n",
       "      <th>3</th>\n",
       "      <td>2021-02-06 10:03:29</td>\n",
       "      <td>130234</td>\n",
       "      <td>2021-02-06 00:00:00</td>\n",
       "      <td>2021-02-06 10:03:30</td>\n",
       "      <td>2021-02-06 10:03:53</td>\n",
       "      <td>3414</td>\n",
       "      <td>1.9039</td>\n",
       "      <td>2.59</td>\n",
       "      <td>125.0</td>\n",
       "      <td>122.0</td>\n",
       "      <td>3.0</td>\n",
       "      <td>1020.0</td>\n",
       "      <td>NaN</td>\n",
       "      <td>NaN</td>\n",
       "      <td>NaN</td>\n",
       "      <td>291.933333</td>\n",
       "    </tr>\n",
       "    <tr>\n",
       "      <th>4</th>\n",
       "      <td>2021-02-06 10:03:35</td>\n",
       "      <td>130235</td>\n",
       "      <td>2021-02-06 00:00:00</td>\n",
       "      <td>2021-02-06 10:03:43</td>\n",
       "      <td>2021-02-06 10:04:43</td>\n",
       "      <td>1426</td>\n",
       "      <td>0.8275</td>\n",
       "      <td>0.94</td>\n",
       "      <td>352.0</td>\n",
       "      <td>350.0</td>\n",
       "      <td>2.0</td>\n",
       "      <td>7284.0</td>\n",
       "      <td>NaN</td>\n",
       "      <td>NaN</td>\n",
       "      <td>NaN</td>\n",
       "      <td>247.133333</td>\n",
       "    </tr>\n",
       "  </tbody>\n",
       "</table>\n",
       "</div>"
      ],
      "text/plain": [
       "            order_time  order_id           order_date           allot_time  \\\n",
       "0  2021-02-06 10:03:24    130231  2021-02-06 00:00:00  2021-02-06 10:03:49   \n",
       "1  2021-02-06 10:03:26    130232  2021-02-06 00:00:00  2021-02-06 10:03:27   \n",
       "2  2021-02-06 10:03:27    130233  2021-02-06 00:00:00  2021-02-06 10:04:14   \n",
       "3  2021-02-06 10:03:29    130234  2021-02-06 00:00:00  2021-02-06 10:03:30   \n",
       "4  2021-02-06 10:03:35    130235  2021-02-06 00:00:00  2021-02-06 10:03:43   \n",
       "\n",
       "           accept_time  rider_id  first_mile_distance  last_mile_distance  \\\n",
       "0  2021-02-06 10:04:15     12884               1.6585                4.54   \n",
       "1  2021-02-06 10:03:36      3541               2.0709                5.84   \n",
       "2  2021-02-06 10:05:34       603               1.3884                0.99   \n",
       "3  2021-02-06 10:03:53      3414               1.9039                2.59   \n",
       "4  2021-02-06 10:04:43      1426               0.8275                0.94   \n",
       "\n",
       "   alloted_orders  delivered_orders  undelivered_orders  lifetime_order_count  \\\n",
       "0           216.0             215.0                 1.0                 747.0   \n",
       "1            52.0              52.0                 0.0                  75.0   \n",
       "2           289.0             289.0                 0.0                2214.0   \n",
       "3           125.0             122.0                 3.0                1020.0   \n",
       "4           352.0             350.0                 2.0                7284.0   \n",
       "\n",
       "  reassignment_method reassignment_reason  reassigned_order  session_time  \n",
       "0                 NaN                 NaN               NaN    273.400000  \n",
       "1                 NaN                 NaN               NaN    252.100000  \n",
       "2                 NaN                 NaN               NaN    241.383333  \n",
       "3                 NaN                 NaN               NaN    291.933333  \n",
       "4                 NaN                 NaN               NaN    247.133333  "
      ]
     },
     "execution_count": 5,
     "metadata": {},
     "output_type": "execute_result"
    }
   ],
   "source": [
    "test_df.head()"
   ]
  },
  {
   "cell_type": "code",
   "execution_count": 6,
   "id": "00ce552f",
   "metadata": {},
   "outputs": [],
   "source": [
    "df = df.drop(['pickup_time', 'delivered_time', 'cancelled_time'], axis = 1)"
   ]
  },
  {
   "cell_type": "code",
   "execution_count": 7,
   "id": "e8fbbbde",
   "metadata": {},
   "outputs": [
    {
     "data": {
      "text/html": [
       "<div>\n",
       "<style scoped>\n",
       "    .dataframe tbody tr th:only-of-type {\n",
       "        vertical-align: middle;\n",
       "    }\n",
       "\n",
       "    .dataframe tbody tr th {\n",
       "        vertical-align: top;\n",
       "    }\n",
       "\n",
       "    .dataframe thead th {\n",
       "        text-align: right;\n",
       "    }\n",
       "</style>\n",
       "<table border=\"1\" class=\"dataframe\">\n",
       "  <thead>\n",
       "    <tr style=\"text-align: right;\">\n",
       "      <th></th>\n",
       "      <th>order_time</th>\n",
       "      <th>order_id</th>\n",
       "      <th>order_date</th>\n",
       "      <th>allot_time</th>\n",
       "      <th>accept_time</th>\n",
       "      <th>rider_id</th>\n",
       "      <th>first_mile_distance</th>\n",
       "      <th>last_mile_distance</th>\n",
       "      <th>alloted_orders</th>\n",
       "      <th>delivered_orders</th>\n",
       "      <th>cancelled</th>\n",
       "      <th>undelivered_orders</th>\n",
       "      <th>lifetime_order_count</th>\n",
       "      <th>reassignment_method</th>\n",
       "      <th>reassignment_reason</th>\n",
       "      <th>reassigned_order</th>\n",
       "      <th>session_time</th>\n",
       "    </tr>\n",
       "  </thead>\n",
       "  <tbody>\n",
       "    <tr>\n",
       "      <th>0</th>\n",
       "      <td>2021-01-26 02:21:35</td>\n",
       "      <td>556753</td>\n",
       "      <td>2021-01-26 00:00:00</td>\n",
       "      <td>2021-01-26 02:21:59</td>\n",
       "      <td>2021-01-26 02:22:08</td>\n",
       "      <td>11696</td>\n",
       "      <td>1.5666</td>\n",
       "      <td>2.65</td>\n",
       "      <td>46.0</td>\n",
       "      <td>46.0</td>\n",
       "      <td>0</td>\n",
       "      <td>0.0</td>\n",
       "      <td>621.0</td>\n",
       "      <td>NaN</td>\n",
       "      <td>NaN</td>\n",
       "      <td>NaN</td>\n",
       "      <td>NaN</td>\n",
       "    </tr>\n",
       "    <tr>\n",
       "      <th>1</th>\n",
       "      <td>2021-01-26 02:33:16</td>\n",
       "      <td>556754</td>\n",
       "      <td>2021-01-26 00:00:00</td>\n",
       "      <td>2021-01-26 02:33:57</td>\n",
       "      <td>2021-01-26 02:34:45</td>\n",
       "      <td>18117</td>\n",
       "      <td>2.5207</td>\n",
       "      <td>2.76</td>\n",
       "      <td>8.0</td>\n",
       "      <td>8.0</td>\n",
       "      <td>0</td>\n",
       "      <td>0.0</td>\n",
       "      <td>105.0</td>\n",
       "      <td>NaN</td>\n",
       "      <td>NaN</td>\n",
       "      <td>NaN</td>\n",
       "      <td>3.266667</td>\n",
       "    </tr>\n",
       "    <tr>\n",
       "      <th>2</th>\n",
       "      <td>2021-01-26 02:39:49</td>\n",
       "      <td>556755</td>\n",
       "      <td>2021-01-26 00:00:00</td>\n",
       "      <td>2021-01-26 02:39:57</td>\n",
       "      <td>2021-01-26 02:40:13</td>\n",
       "      <td>18623</td>\n",
       "      <td>2.2074</td>\n",
       "      <td>4.80</td>\n",
       "      <td>1.0</td>\n",
       "      <td>1.0</td>\n",
       "      <td>0</td>\n",
       "      <td>0.0</td>\n",
       "      <td>66.0</td>\n",
       "      <td>NaN</td>\n",
       "      <td>NaN</td>\n",
       "      <td>NaN</td>\n",
       "      <td>9.816667</td>\n",
       "    </tr>\n",
       "    <tr>\n",
       "      <th>3</th>\n",
       "      <td>2021-01-26 02:47:53</td>\n",
       "      <td>556756</td>\n",
       "      <td>2021-01-26 00:00:00</td>\n",
       "      <td>2021-01-26 02:48:25</td>\n",
       "      <td>2021-01-26 02:49:06</td>\n",
       "      <td>15945</td>\n",
       "      <td>2.1894</td>\n",
       "      <td>6.38</td>\n",
       "      <td>1.0</td>\n",
       "      <td>1.0</td>\n",
       "      <td>0</td>\n",
       "      <td>0.0</td>\n",
       "      <td>127.0</td>\n",
       "      <td>NaN</td>\n",
       "      <td>NaN</td>\n",
       "      <td>NaN</td>\n",
       "      <td>17.533333</td>\n",
       "    </tr>\n",
       "    <tr>\n",
       "      <th>4</th>\n",
       "      <td>2021-01-26 03:06:30</td>\n",
       "      <td>556757</td>\n",
       "      <td>2021-01-26 00:00:00</td>\n",
       "      <td>2021-01-26 03:07:21</td>\n",
       "      <td>2021-01-26 03:07:57</td>\n",
       "      <td>17589</td>\n",
       "      <td>2.7870</td>\n",
       "      <td>4.01</td>\n",
       "      <td>34.0</td>\n",
       "      <td>34.0</td>\n",
       "      <td>0</td>\n",
       "      <td>0.0</td>\n",
       "      <td>84.0</td>\n",
       "      <td>NaN</td>\n",
       "      <td>NaN</td>\n",
       "      <td>NaN</td>\n",
       "      <td>1.350000</td>\n",
       "    </tr>\n",
       "  </tbody>\n",
       "</table>\n",
       "</div>"
      ],
      "text/plain": [
       "            order_time  order_id           order_date           allot_time  \\\n",
       "0  2021-01-26 02:21:35    556753  2021-01-26 00:00:00  2021-01-26 02:21:59   \n",
       "1  2021-01-26 02:33:16    556754  2021-01-26 00:00:00  2021-01-26 02:33:57   \n",
       "2  2021-01-26 02:39:49    556755  2021-01-26 00:00:00  2021-01-26 02:39:57   \n",
       "3  2021-01-26 02:47:53    556756  2021-01-26 00:00:00  2021-01-26 02:48:25   \n",
       "4  2021-01-26 03:06:30    556757  2021-01-26 00:00:00  2021-01-26 03:07:21   \n",
       "\n",
       "           accept_time  rider_id  first_mile_distance  last_mile_distance  \\\n",
       "0  2021-01-26 02:22:08     11696               1.5666                2.65   \n",
       "1  2021-01-26 02:34:45     18117               2.5207                2.76   \n",
       "2  2021-01-26 02:40:13     18623               2.2074                4.80   \n",
       "3  2021-01-26 02:49:06     15945               2.1894                6.38   \n",
       "4  2021-01-26 03:07:57     17589               2.7870                4.01   \n",
       "\n",
       "   alloted_orders  delivered_orders  cancelled  undelivered_orders  \\\n",
       "0            46.0              46.0          0                 0.0   \n",
       "1             8.0               8.0          0                 0.0   \n",
       "2             1.0               1.0          0                 0.0   \n",
       "3             1.0               1.0          0                 0.0   \n",
       "4            34.0              34.0          0                 0.0   \n",
       "\n",
       "   lifetime_order_count reassignment_method reassignment_reason  \\\n",
       "0                 621.0                 NaN                 NaN   \n",
       "1                 105.0                 NaN                 NaN   \n",
       "2                  66.0                 NaN                 NaN   \n",
       "3                 127.0                 NaN                 NaN   \n",
       "4                  84.0                 NaN                 NaN   \n",
       "\n",
       "   reassigned_order  session_time  \n",
       "0               NaN           NaN  \n",
       "1               NaN      3.266667  \n",
       "2               NaN      9.816667  \n",
       "3               NaN     17.533333  \n",
       "4               NaN      1.350000  "
      ]
     },
     "execution_count": 7,
     "metadata": {},
     "output_type": "execute_result"
    }
   ],
   "source": [
    "df.head()"
   ]
  },
  {
   "cell_type": "code",
   "execution_count": 8,
   "id": "a8d873dc",
   "metadata": {},
   "outputs": [
    {
     "data": {
      "text/plain": [
       "436256"
      ]
     },
     "execution_count": 8,
     "metadata": {},
     "output_type": "execute_result"
    }
   ],
   "source": [
    "df['reassignment_method'].isna().sum()"
   ]
  },
  {
   "cell_type": "code",
   "execution_count": 9,
   "id": "d56cce5f",
   "metadata": {},
   "outputs": [
    {
     "data": {
      "text/plain": [
       "436247"
      ]
     },
     "execution_count": 9,
     "metadata": {},
     "output_type": "execute_result"
    }
   ],
   "source": [
    "df['reassignment_reason'].isna().sum()"
   ]
  },
  {
   "cell_type": "code",
   "execution_count": 10,
   "id": "720a3310",
   "metadata": {},
   "outputs": [
    {
     "data": {
      "text/plain": [
       "436247"
      ]
     },
     "execution_count": 10,
     "metadata": {},
     "output_type": "execute_result"
    }
   ],
   "source": [
    "df['reassigned_order'].isna().sum()"
   ]
  },
  {
   "cell_type": "code",
   "execution_count": 11,
   "id": "1b7a3208",
   "metadata": {},
   "outputs": [
    {
     "data": {
      "text/plain": [
       "0    444782\n",
       "1      5218\n",
       "Name: cancelled, dtype: int64"
      ]
     },
     "execution_count": 11,
     "metadata": {},
     "output_type": "execute_result"
    }
   ],
   "source": [
    "df['cancelled'].value_counts()"
   ]
  },
  {
   "cell_type": "code",
   "execution_count": 12,
   "id": "3a68b82f",
   "metadata": {},
   "outputs": [
    {
     "data": {
      "text/plain": [
       "auto      13383\n",
       "manual      361\n",
       "Name: reassignment_method, dtype: int64"
      ]
     },
     "execution_count": 12,
     "metadata": {},
     "output_type": "execute_result"
    }
   ],
   "source": [
    "df['reassignment_method'].value_counts()"
   ]
  },
  {
   "cell_type": "code",
   "execution_count": 13,
   "id": "473f10c4",
   "metadata": {},
   "outputs": [],
   "source": [
    "df = df.drop(['reassignment_method'], axis = 1)"
   ]
  },
  {
   "cell_type": "code",
   "execution_count": 14,
   "id": "7a6dc59a",
   "metadata": {},
   "outputs": [],
   "source": [
    "test_df = test_df.drop(['reassignment_method'], axis = 1)"
   ]
  },
  {
   "cell_type": "code",
   "execution_count": 15,
   "id": "0d788e46",
   "metadata": {},
   "outputs": [
    {
     "data": {
      "text/plain": [
       "1.0    13753\n",
       "Name: reassigned_order, dtype: int64"
      ]
     },
     "execution_count": 15,
     "metadata": {},
     "output_type": "execute_result"
    }
   ],
   "source": [
    "df['reassigned_order'].value_counts()"
   ]
  },
  {
   "cell_type": "code",
   "execution_count": 16,
   "id": "c445ea78",
   "metadata": {},
   "outputs": [],
   "source": [
    "df['reassigned_order'] = df['reassigned_order'].fillna(0)"
   ]
  },
  {
   "cell_type": "code",
   "execution_count": 17,
   "id": "5c7c2861",
   "metadata": {},
   "outputs": [
    {
     "data": {
      "text/plain": [
       "Auto Reassignment basis Inaction. coreengine.tasks.repush_order_to_aa_bucket    7212\n",
       "Reassignment Request from SE portal.                                            5300\n",
       "Reassign                                                                        1241\n",
       "Name: reassignment_reason, dtype: int64"
      ]
     },
     "execution_count": 17,
     "metadata": {},
     "output_type": "execute_result"
    }
   ],
   "source": [
    "df['reassignment_reason'].value_counts()"
   ]
  },
  {
   "cell_type": "code",
   "execution_count": 18,
   "id": "664c8a65",
   "metadata": {},
   "outputs": [],
   "source": [
    "test_df['reassigned_order'] = test_df['reassigned_order'].fillna(0)"
   ]
  },
  {
   "cell_type": "code",
   "execution_count": 19,
   "id": "7a3b85db",
   "metadata": {},
   "outputs": [
    {
     "data": {
      "text/plain": [
       "0.0    140209\n",
       "1.0      4635\n",
       "Name: reassigned_order, dtype: int64"
      ]
     },
     "execution_count": 19,
     "metadata": {},
     "output_type": "execute_result"
    }
   ],
   "source": [
    "test_df['reassigned_order'].value_counts()"
   ]
  },
  {
   "cell_type": "code",
   "execution_count": 20,
   "id": "6613ac2c",
   "metadata": {
    "scrolled": true
   },
   "outputs": [
    {
     "data": {
      "text/plain": [
       "0"
      ]
     },
     "execution_count": 20,
     "metadata": {},
     "output_type": "execute_result"
    }
   ],
   "source": [
    "test_df['reassigned_order'].isna().sum()"
   ]
  },
  {
   "cell_type": "code",
   "execution_count": 21,
   "id": "e0e23370",
   "metadata": {},
   "outputs": [],
   "source": [
    "df['reassignment_reason'] = df['reassignment_reason'].fillna(0)"
   ]
  },
  {
   "cell_type": "code",
   "execution_count": 22,
   "id": "8e96e614",
   "metadata": {},
   "outputs": [],
   "source": [
    "test_df['reassignment_reason'] = test_df['reassignment_reason'].fillna(0)"
   ]
  },
  {
   "cell_type": "code",
   "execution_count": 23,
   "id": "c7ca5f87",
   "metadata": {},
   "outputs": [
    {
     "data": {
      "text/plain": [
       "order_time               object\n",
       "order_id                  int64\n",
       "order_date               object\n",
       "allot_time               object\n",
       "accept_time              object\n",
       "rider_id                  int64\n",
       "first_mile_distance     float64\n",
       "last_mile_distance      float64\n",
       "alloted_orders          float64\n",
       "delivered_orders        float64\n",
       "cancelled                 int64\n",
       "undelivered_orders      float64\n",
       "lifetime_order_count    float64\n",
       "reassignment_reason      object\n",
       "reassigned_order        float64\n",
       "session_time            float64\n",
       "dtype: object"
      ]
     },
     "execution_count": 23,
     "metadata": {},
     "output_type": "execute_result"
    }
   ],
   "source": [
    "df.dtypes"
   ]
  },
  {
   "cell_type": "code",
   "execution_count": 24,
   "id": "f32e8dc5",
   "metadata": {},
   "outputs": [
    {
     "data": {
      "image/png": "[encoded data removed]",
      "text/plain": [
       "<Figure size 576x576 with 12 Axes>"
      ]
     },
     "metadata": {
      "needs_background": "light"
     },
     "output_type": "display_data"
    }
   ],
   "source": [
    "df.hist(figsize=(8,8), xrot=45)\n",
    "plt.show()"
   ]
  },
  {
   "cell_type": "code",
   "execution_count": 25,
   "id": "221282b5",
   "metadata": {},
   "outputs": [
    {
     "data": {
      "text/html": [
       "<div>\n",
       "<style scoped>\n",
       "    .dataframe tbody tr th:only-of-type {\n",
       "        vertical-align: middle;\n",
       "    }\n",
       "\n",
       "    .dataframe tbody tr th {\n",
       "        vertical-align: top;\n",
       "    }\n",
       "\n",
       "    .dataframe thead th {\n",
       "        text-align: right;\n",
       "    }\n",
       "</style>\n",
       "<table border=\"1\" class=\"dataframe\">\n",
       "  <thead>\n",
       "    <tr style=\"text-align: right;\">\n",
       "      <th></th>\n",
       "      <th>order_id</th>\n",
       "      <th>rider_id</th>\n",
       "      <th>first_mile_distance</th>\n",
       "      <th>last_mile_distance</th>\n",
       "      <th>alloted_orders</th>\n",
       "      <th>delivered_orders</th>\n",
       "      <th>cancelled</th>\n",
       "      <th>undelivered_orders</th>\n",
       "      <th>lifetime_order_count</th>\n",
       "      <th>reassigned_order</th>\n",
       "      <th>session_time</th>\n",
       "    </tr>\n",
       "  </thead>\n",
       "  <tbody>\n",
       "    <tr>\n",
       "      <th>count</th>\n",
       "      <td>450000.000000</td>\n",
       "      <td>450000.000000</td>\n",
       "      <td>450000.000000</td>\n",
       "      <td>450000.000000</td>\n",
       "      <td>433052.000000</td>\n",
       "      <td>432659.000000</td>\n",
       "      <td>450000.000000</td>\n",
       "      <td>432659.000000</td>\n",
       "      <td>449947.000000</td>\n",
       "      <td>450000.000000</td>\n",
       "      <td>446325.000000</td>\n",
       "    </tr>\n",
       "    <tr>\n",
       "      <th>mean</th>\n",
       "      <td>369143.080767</td>\n",
       "      <td>7763.244016</td>\n",
       "      <td>1.229889</td>\n",
       "      <td>2.968873</td>\n",
       "      <td>104.620909</td>\n",
       "      <td>103.950448</td>\n",
       "      <td>0.011596</td>\n",
       "      <td>0.764165</td>\n",
       "      <td>853.640664</td>\n",
       "      <td>0.030562</td>\n",
       "      <td>220.474779</td>\n",
       "    </tr>\n",
       "    <tr>\n",
       "      <th>std</th>\n",
       "      <td>131146.906408</td>\n",
       "      <td>5592.880135</td>\n",
       "      <td>0.846183</td>\n",
       "      <td>1.884124</td>\n",
       "      <td>90.135492</td>\n",
       "      <td>89.639646</td>\n",
       "      <td>0.107057</td>\n",
       "      <td>1.066473</td>\n",
       "      <td>1502.976162</td>\n",
       "      <td>0.172129</td>\n",
       "      <td>176.713853</td>\n",
       "    </tr>\n",
       "    <tr>\n",
       "      <th>min</th>\n",
       "      <td>118350.000000</td>\n",
       "      <td>0.000000</td>\n",
       "      <td>0.000134</td>\n",
       "      <td>0.000000</td>\n",
       "      <td>1.000000</td>\n",
       "      <td>1.000000</td>\n",
       "      <td>0.000000</td>\n",
       "      <td>0.000000</td>\n",
       "      <td>0.000000</td>\n",
       "      <td>0.000000</td>\n",
       "      <td>0.000000</td>\n",
       "    </tr>\n",
       "    <tr>\n",
       "      <th>25%</th>\n",
       "      <td>257342.750000</td>\n",
       "      <td>2805.000000</td>\n",
       "      <td>0.539575</td>\n",
       "      <td>1.470000</td>\n",
       "      <td>36.000000</td>\n",
       "      <td>36.000000</td>\n",
       "      <td>0.000000</td>\n",
       "      <td>0.000000</td>\n",
       "      <td>165.000000</td>\n",
       "      <td>0.000000</td>\n",
       "      <td>84.100000</td>\n",
       "    </tr>\n",
       "    <tr>\n",
       "      <th>50%</th>\n",
       "      <td>369842.500000</td>\n",
       "      <td>6754.000000</td>\n",
       "      <td>1.138700</td>\n",
       "      <td>2.670000</td>\n",
       "      <td>81.000000</td>\n",
       "      <td>81.000000</td>\n",
       "      <td>0.000000</td>\n",
       "      <td>0.000000</td>\n",
       "      <td>396.000000</td>\n",
       "      <td>0.000000</td>\n",
       "      <td>175.550000</td>\n",
       "    </tr>\n",
       "    <tr>\n",
       "      <th>75%</th>\n",
       "      <td>482342.250000</td>\n",
       "      <td>11965.000000</td>\n",
       "      <td>1.853000</td>\n",
       "      <td>4.220000</td>\n",
       "      <td>147.000000</td>\n",
       "      <td>146.000000</td>\n",
       "      <td>0.000000</td>\n",
       "      <td>1.000000</td>\n",
       "      <td>948.000000</td>\n",
       "      <td>0.000000</td>\n",
       "      <td>316.766667</td>\n",
       "    </tr>\n",
       "    <tr>\n",
       "      <th>max</th>\n",
       "      <td>594842.000000</td>\n",
       "      <td>21566.000000</td>\n",
       "      <td>42.038100</td>\n",
       "      <td>22.410000</td>\n",
       "      <td>567.000000</td>\n",
       "      <td>562.000000</td>\n",
       "      <td>1.000000</td>\n",
       "      <td>9.000000</td>\n",
       "      <td>30469.000000</td>\n",
       "      <td>1.000000</td>\n",
       "      <td>1298.966667</td>\n",
       "    </tr>\n",
       "  </tbody>\n",
       "</table>\n",
       "</div>"
      ],
      "text/plain": [
       "            order_id       rider_id  first_mile_distance  last_mile_distance  \\\n",
       "count  450000.000000  450000.000000        450000.000000       450000.000000   \n",
       "mean   369143.080767    7763.244016             1.229889            2.968873   \n",
       "std    131146.906408    5592.880135             0.846183            1.884124   \n",
       "min    118350.000000       0.000000             0.000134            0.000000   \n",
       "25%    257342.750000    2805.000000             0.539575            1.470000   \n",
       "50%    369842.500000    6754.000000             1.138700            2.670000   \n",
       "75%    482342.250000   11965.000000             1.853000            4.220000   \n",
       "max    594842.000000   21566.000000            42.038100           22.410000   \n",
       "\n",
       "       alloted_orders  delivered_orders      cancelled  undelivered_orders  \\\n",
       "count   433052.000000     432659.000000  450000.000000       432659.000000   \n",
       "mean       104.620909        103.950448       0.011596            0.764165   \n",
       "std         90.135492         89.639646       0.107057            1.066473   \n",
       "min          1.000000          1.000000       0.000000            0.000000   \n",
       "25%         36.000000         36.000000       0.000000            0.000000   \n",
       "50%         81.000000         81.000000       0.000000            0.000000   \n",
       "75%        147.000000        146.000000       0.000000            1.000000   \n",
       "max        567.000000        562.000000       1.000000            9.000000   \n",
       "\n",
       "       lifetime_order_count  reassigned_order   session_time  \n",
       "count         449947.000000     450000.000000  446325.000000  \n",
       "mean             853.640664          0.030562     220.474779  \n",
       "std             1502.976162          0.172129     176.713853  \n",
       "min                0.000000          0.000000       0.000000  \n",
       "25%              165.000000          0.000000      84.100000  \n",
       "50%              396.000000          0.000000     175.550000  \n",
       "75%              948.000000          0.000000     316.766667  \n",
       "max            30469.000000          1.000000    1298.966667  "
      ]
     },
     "execution_count": 25,
     "metadata": {},
     "output_type": "execute_result"
    }
   ],
   "source": [
    "df.describe()"
   ]
  },
  {
   "cell_type": "code",
   "execution_count": 26,
   "id": "1f487c0e",
   "metadata": {},
   "outputs": [
    {
     "data": {
      "text/html": [
       "<div>\n",
       "<style scoped>\n",
       "    .dataframe tbody tr th:only-of-type {\n",
       "        vertical-align: middle;\n",
       "    }\n",
       "\n",
       "    .dataframe tbody tr th {\n",
       "        vertical-align: top;\n",
       "    }\n",
       "\n",
       "    .dataframe thead th {\n",
       "        text-align: right;\n",
       "    }\n",
       "</style>\n",
       "<table border=\"1\" class=\"dataframe\">\n",
       "  <thead>\n",
       "    <tr style=\"text-align: right;\">\n",
       "      <th></th>\n",
       "      <th>order_time</th>\n",
       "      <th>order_date</th>\n",
       "      <th>allot_time</th>\n",
       "      <th>accept_time</th>\n",
       "      <th>reassignment_reason</th>\n",
       "    </tr>\n",
       "  </thead>\n",
       "  <tbody>\n",
       "    <tr>\n",
       "      <th>count</th>\n",
       "      <td>450000</td>\n",
       "      <td>450000</td>\n",
       "      <td>450000</td>\n",
       "      <td>449843</td>\n",
       "      <td>450000</td>\n",
       "    </tr>\n",
       "    <tr>\n",
       "      <th>unique</th>\n",
       "      <td>252868</td>\n",
       "      <td>12</td>\n",
       "      <td>246871</td>\n",
       "      <td>254201</td>\n",
       "      <td>4</td>\n",
       "    </tr>\n",
       "    <tr>\n",
       "      <th>top</th>\n",
       "      <td>2021-01-30 14:38:36</td>\n",
       "      <td>2021-02-05 00:00:00</td>\n",
       "      <td>2021-01-29 14:18:11</td>\n",
       "      <td>2021-01-27 16:03:12</td>\n",
       "      <td>0</td>\n",
       "    </tr>\n",
       "    <tr>\n",
       "      <th>freq</th>\n",
       "      <td>11</td>\n",
       "      <td>42341</td>\n",
       "      <td>13</td>\n",
       "      <td>15</td>\n",
       "      <td>436247</td>\n",
       "    </tr>\n",
       "  </tbody>\n",
       "</table>\n",
       "</div>"
      ],
      "text/plain": [
       "                 order_time           order_date           allot_time  \\\n",
       "count                450000               450000               450000   \n",
       "unique               252868                   12               246871   \n",
       "top     2021-01-30 14:38:36  2021-02-05 00:00:00  2021-01-29 14:18:11   \n",
       "freq                     11                42341                   13   \n",
       "\n",
       "                accept_time  reassignment_reason  \n",
       "count                449843               450000  \n",
       "unique               254201                    4  \n",
       "top     2021-01-27 16:03:12                    0  \n",
       "freq                     15               436247  "
      ]
     },
     "execution_count": 26,
     "metadata": {},
     "output_type": "execute_result"
    }
   ],
   "source": [
    "df.describe(include='object')"
   ]
  },
  {
   "cell_type": "code",
   "execution_count": 27,
   "id": "a7250c1a",
   "metadata": {},
   "outputs": [],
   "source": [
    "#adding time columns\n",
    "df['order_time'] = pd.to_datetime(df['order_time'])\n",
    "df['allot_time'] = pd.to_datetime(df['allot_time'])\n",
    "df['accept_time'] = pd.to_datetime(df['accept_time'])\n",
    "t1 = df['allot_time'] - df['order_time']\n",
    "t2 = df['accept_time'] - df['allot_time']\n",
    "df['allot_duration'] = t1\n",
    "df['accept_duration'] = t2\n",
    "df['accept_duration'] = pd.to_timedelta(df['accept_duration']).dt.total_seconds()\n",
    "df['allot_duration'] = pd.to_timedelta(df['allot_duration']).dt.total_seconds()"
   ]
  },
  {
   "cell_type": "code",
   "execution_count": 28,
   "id": "c56dfb07",
   "metadata": {},
   "outputs": [
    {
     "data": {
      "text/html": [
       "<div>\n",
       "<style scoped>\n",
       "    .dataframe tbody tr th:only-of-type {\n",
       "        vertical-align: middle;\n",
       "    }\n",
       "\n",
       "    .dataframe tbody tr th {\n",
       "        vertical-align: top;\n",
       "    }\n",
       "\n",
       "    .dataframe thead th {\n",
       "        text-align: right;\n",
       "    }\n",
       "</style>\n",
       "<table border=\"1\" class=\"dataframe\">\n",
       "  <thead>\n",
       "    <tr style=\"text-align: right;\">\n",
       "      <th></th>\n",
       "      <th>order_id</th>\n",
       "      <th>rider_id</th>\n",
       "      <th>first_mile_distance</th>\n",
       "      <th>last_mile_distance</th>\n",
       "      <th>alloted_orders</th>\n",
       "      <th>delivered_orders</th>\n",
       "      <th>cancelled</th>\n",
       "      <th>undelivered_orders</th>\n",
       "      <th>lifetime_order_count</th>\n",
       "      <th>reassigned_order</th>\n",
       "      <th>session_time</th>\n",
       "      <th>allot_duration</th>\n",
       "      <th>accept_duration</th>\n",
       "    </tr>\n",
       "  </thead>\n",
       "  <tbody>\n",
       "    <tr>\n",
       "      <th>count</th>\n",
       "      <td>450000.000000</td>\n",
       "      <td>450000.000000</td>\n",
       "      <td>450000.000000</td>\n",
       "      <td>450000.000000</td>\n",
       "      <td>433052.000000</td>\n",
       "      <td>432659.000000</td>\n",
       "      <td>450000.000000</td>\n",
       "      <td>432659.000000</td>\n",
       "      <td>449947.000000</td>\n",
       "      <td>450000.000000</td>\n",
       "      <td>446325.000000</td>\n",
       "      <td>450000.000000</td>\n",
       "      <td>449843.000000</td>\n",
       "    </tr>\n",
       "    <tr>\n",
       "      <th>mean</th>\n",
       "      <td>369143.080767</td>\n",
       "      <td>7763.244016</td>\n",
       "      <td>1.229889</td>\n",
       "      <td>2.968873</td>\n",
       "      <td>104.620909</td>\n",
       "      <td>103.950448</td>\n",
       "      <td>0.011596</td>\n",
       "      <td>0.764165</td>\n",
       "      <td>853.640664</td>\n",
       "      <td>0.030562</td>\n",
       "      <td>220.474779</td>\n",
       "      <td>73.199969</td>\n",
       "      <td>61.005662</td>\n",
       "    </tr>\n",
       "    <tr>\n",
       "      <th>std</th>\n",
       "      <td>131146.906408</td>\n",
       "      <td>5592.880135</td>\n",
       "      <td>0.846183</td>\n",
       "      <td>1.884124</td>\n",
       "      <td>90.135492</td>\n",
       "      <td>89.639646</td>\n",
       "      <td>0.107057</td>\n",
       "      <td>1.066473</td>\n",
       "      <td>1502.976162</td>\n",
       "      <td>0.172129</td>\n",
       "      <td>176.713853</td>\n",
       "      <td>275.048691</td>\n",
       "      <td>107.454660</td>\n",
       "    </tr>\n",
       "    <tr>\n",
       "      <th>min</th>\n",
       "      <td>118350.000000</td>\n",
       "      <td>0.000000</td>\n",
       "      <td>0.000134</td>\n",
       "      <td>0.000000</td>\n",
       "      <td>1.000000</td>\n",
       "      <td>1.000000</td>\n",
       "      <td>0.000000</td>\n",
       "      <td>0.000000</td>\n",
       "      <td>0.000000</td>\n",
       "      <td>0.000000</td>\n",
       "      <td>0.000000</td>\n",
       "      <td>0.000000</td>\n",
       "      <td>-28534.000000</td>\n",
       "    </tr>\n",
       "    <tr>\n",
       "      <th>25%</th>\n",
       "      <td>257342.750000</td>\n",
       "      <td>2805.000000</td>\n",
       "      <td>0.539575</td>\n",
       "      <td>1.470000</td>\n",
       "      <td>36.000000</td>\n",
       "      <td>36.000000</td>\n",
       "      <td>0.000000</td>\n",
       "      <td>0.000000</td>\n",
       "      <td>165.000000</td>\n",
       "      <td>0.000000</td>\n",
       "      <td>84.100000</td>\n",
       "      <td>1.000000</td>\n",
       "      <td>15.000000</td>\n",
       "    </tr>\n",
       "    <tr>\n",
       "      <th>50%</th>\n",
       "      <td>369842.500000</td>\n",
       "      <td>6754.000000</td>\n",
       "      <td>1.138700</td>\n",
       "      <td>2.670000</td>\n",
       "      <td>81.000000</td>\n",
       "      <td>81.000000</td>\n",
       "      <td>0.000000</td>\n",
       "      <td>0.000000</td>\n",
       "      <td>396.000000</td>\n",
       "      <td>0.000000</td>\n",
       "      <td>175.550000</td>\n",
       "      <td>15.000000</td>\n",
       "      <td>37.000000</td>\n",
       "    </tr>\n",
       "    <tr>\n",
       "      <th>75%</th>\n",
       "      <td>482342.250000</td>\n",
       "      <td>11965.000000</td>\n",
       "      <td>1.853000</td>\n",
       "      <td>4.220000</td>\n",
       "      <td>147.000000</td>\n",
       "      <td>146.000000</td>\n",
       "      <td>0.000000</td>\n",
       "      <td>1.000000</td>\n",
       "      <td>948.000000</td>\n",
       "      <td>0.000000</td>\n",
       "      <td>316.766667</td>\n",
       "      <td>48.000000</td>\n",
       "      <td>63.000000</td>\n",
       "    </tr>\n",
       "    <tr>\n",
       "      <th>max</th>\n",
       "      <td>594842.000000</td>\n",
       "      <td>21566.000000</td>\n",
       "      <td>42.038100</td>\n",
       "      <td>22.410000</td>\n",
       "      <td>567.000000</td>\n",
       "      <td>562.000000</td>\n",
       "      <td>1.000000</td>\n",
       "      <td>9.000000</td>\n",
       "      <td>30469.000000</td>\n",
       "      <td>1.000000</td>\n",
       "      <td>1298.966667</td>\n",
       "      <td>32334.000000</td>\n",
       "      <td>930.000000</td>\n",
       "    </tr>\n",
       "  </tbody>\n",
       "</table>\n",
       "</div>"
      ],
      "text/plain": [
       "            order_id       rider_id  first_mile_distance  last_mile_distance  \\\n",
       "count  450000.000000  450000.000000        450000.000000       450000.000000   \n",
       "mean   369143.080767    7763.244016             1.229889            2.968873   \n",
       "std    131146.906408    5592.880135             0.846183            1.884124   \n",
       "min    118350.000000       0.000000             0.000134            0.000000   \n",
       "25%    257342.750000    2805.000000             0.539575            1.470000   \n",
       "50%    369842.500000    6754.000000             1.138700            2.670000   \n",
       "75%    482342.250000   11965.000000             1.853000            4.220000   \n",
       "max    594842.000000   21566.000000            42.038100           22.410000   \n",
       "\n",
       "       alloted_orders  delivered_orders      cancelled  undelivered_orders  \\\n",
       "count   433052.000000     432659.000000  450000.000000       432659.000000   \n",
       "mean       104.620909        103.950448       0.011596            0.764165   \n",
       "std         90.135492         89.639646       0.107057            1.066473   \n",
       "min          1.000000          1.000000       0.000000            0.000000   \n",
       "25%         36.000000         36.000000       0.000000            0.000000   \n",
       "50%         81.000000         81.000000       0.000000            0.000000   \n",
       "75%        147.000000        146.000000       0.000000            1.000000   \n",
       "max        567.000000        562.000000       1.000000            9.000000   \n",
       "\n",
       "       lifetime_order_count  reassigned_order   session_time  allot_duration  \\\n",
       "count         449947.000000     450000.000000  446325.000000   450000.000000   \n",
       "mean             853.640664          0.030562     220.474779       73.199969   \n",
       "std             1502.976162          0.172129     176.713853      275.048691   \n",
       "min                0.000000          0.000000       0.000000        0.000000   \n",
       "25%              165.000000          0.000000      84.100000        1.000000   \n",
       "50%              396.000000          0.000000     175.550000       15.000000   \n",
       "75%              948.000000          0.000000     316.766667       48.000000   \n",
       "max            30469.000000          1.000000    1298.966667    32334.000000   \n",
       "\n",
       "       accept_duration  \n",
       "count    449843.000000  \n",
       "mean         61.005662  \n",
       "std         107.454660  \n",
       "min      -28534.000000  \n",
       "25%          15.000000  \n",
       "50%          37.000000  \n",
       "75%          63.000000  \n",
       "max         930.000000  "
      ]
     },
     "execution_count": 28,
     "metadata": {},
     "output_type": "execute_result"
    }
   ],
   "source": [
    "df.describe()"
   ]
  },
  {
   "cell_type": "code",
   "execution_count": 29,
   "id": "7849815e",
   "metadata": {},
   "outputs": [
    {
     "data": {
      "image/png": "[encoded data removed]",
      "text/plain": [
       "<Figure size 432x288 with 1 Axes>"
      ]
     },
     "metadata": {
      "needs_background": "light"
     },
     "output_type": "display_data"
    },
    {
     "data": {
      "image/png": "[encoded data removed]",
      "text/plain": [
       "<Figure size 432x288 with 1 Axes>"
      ]
     },
     "metadata": {
      "needs_background": "light"
     },
     "output_type": "display_data"
    }
   ],
   "source": [
    "for col in df.select_dtypes(include='object'):\n",
    "    if df[col].nunique() <= 22:\n",
    "        sns.countplot(y=col, data=df)\n",
    "        plt.show()"
   ]
  },
  {
   "cell_type": "code",
   "execution_count": 30,
   "id": "de27b316",
   "metadata": {},
   "outputs": [
    {
     "data": {
      "image/png": "[encoded data removed]",
      "text/plain": [
       "<Figure size 432x288 with 1 Axes>"
      ]
     },
     "metadata": {
      "needs_background": "light"
     },
     "output_type": "display_data"
    },
    {
     "data": {
      "image/png": "[encoded data removed]",
      "text/plain": [
       "<Figure size 432x288 with 1 Axes>"
      ]
     },
     "metadata": {
      "needs_background": "light"
     },
     "output_type": "display_data"
    }
   ],
   "source": [
    "for col in test_df.select_dtypes(include='object'):\n",
    "    if test_df[col].nunique() <= 22:\n",
    "        sns.countplot(y=col, data=test_df)\n",
    "        plt.show()"
   ]
  },
  {
   "cell_type": "code",
   "execution_count": 31,
   "id": "bb3faf43",
   "metadata": {},
   "outputs": [],
   "source": [
    "df = df.drop(['order_date'], axis = 1)\n",
    "test_df = test_df.drop(['order_date'], axis = 1)"
   ]
  },
  {
   "cell_type": "code",
   "execution_count": 32,
   "id": "808af2aa",
   "metadata": {},
   "outputs": [],
   "source": [
    "test_df['order_time'] = pd.to_datetime(test_df['order_time'])\n",
    "test_df['allot_time'] = pd.to_datetime(test_df['allot_time'])\n",
    "test_df['accept_time'] = pd.to_datetime(test_df['accept_time'])\n",
    "t1 = test_df['allot_time'] - test_df['order_time']\n",
    "t2 = test_df['accept_time'] - test_df['allot_time']\n",
    "test_df['allot_duration'] = t1\n",
    "test_df['accept_duration'] = t2\n",
    "test_df['accept_duration'] = pd.to_timedelta(test_df['accept_duration']).dt.total_seconds()\n",
    "test_df['allot_duration'] = pd.to_timedelta(test_df['allot_duration']).dt.total_seconds()"
   ]
  },
  {
   "cell_type": "code",
   "execution_count": 33,
   "id": "2560b9d1",
   "metadata": {},
   "outputs": [
    {
     "data": {
      "text/html": [
       "<div>\n",
       "<style scoped>\n",
       "    .dataframe tbody tr th:only-of-type {\n",
       "        vertical-align: middle;\n",
       "    }\n",
       "\n",
       "    .dataframe tbody tr th {\n",
       "        vertical-align: top;\n",
       "    }\n",
       "\n",
       "    .dataframe thead th {\n",
       "        text-align: right;\n",
       "    }\n",
       "</style>\n",
       "<table border=\"1\" class=\"dataframe\">\n",
       "  <thead>\n",
       "    <tr style=\"text-align: right;\">\n",
       "      <th></th>\n",
       "      <th>order_id</th>\n",
       "      <th>rider_id</th>\n",
       "      <th>first_mile_distance</th>\n",
       "      <th>last_mile_distance</th>\n",
       "      <th>alloted_orders</th>\n",
       "      <th>delivered_orders</th>\n",
       "      <th>undelivered_orders</th>\n",
       "      <th>lifetime_order_count</th>\n",
       "      <th>reassigned_order</th>\n",
       "      <th>session_time</th>\n",
       "      <th>allot_duration</th>\n",
       "      <th>accept_duration</th>\n",
       "    </tr>\n",
       "  </thead>\n",
       "  <tbody>\n",
       "    <tr>\n",
       "      <th>count</th>\n",
       "      <td>144844.000000</td>\n",
       "      <td>144844.000000</td>\n",
       "      <td>144844.000000</td>\n",
       "      <td>144844.000000</td>\n",
       "      <td>140071.000000</td>\n",
       "      <td>139960.000000</td>\n",
       "      <td>139960.000000</td>\n",
       "      <td>144066.000000</td>\n",
       "      <td>144844.000</td>\n",
       "      <td>139790.000000</td>\n",
       "      <td>144844.000000</td>\n",
       "      <td>144776.000000</td>\n",
       "    </tr>\n",
       "    <tr>\n",
       "      <th>mean</th>\n",
       "      <td>74594.701610</td>\n",
       "      <td>5050.498019</td>\n",
       "      <td>1.317988</td>\n",
       "      <td>2.846224</td>\n",
       "      <td>105.236402</td>\n",
       "      <td>104.522542</td>\n",
       "      <td>0.796120</td>\n",
       "      <td>827.877716</td>\n",
       "      <td>0.032</td>\n",
       "      <td>236.664557</td>\n",
       "      <td>75.502976</td>\n",
       "      <td>61.499889</td>\n",
       "    </tr>\n",
       "    <tr>\n",
       "      <th>std</th>\n",
       "      <td>45018.049343</td>\n",
       "      <td>3587.392934</td>\n",
       "      <td>0.852682</td>\n",
       "      <td>1.832061</td>\n",
       "      <td>89.838188</td>\n",
       "      <td>89.347307</td>\n",
       "      <td>1.091238</td>\n",
       "      <td>1511.791891</td>\n",
       "      <td>0.176</td>\n",
       "      <td>187.018749</td>\n",
       "      <td>335.821612</td>\n",
       "      <td>99.865747</td>\n",
       "    </tr>\n",
       "    <tr>\n",
       "      <th>min</th>\n",
       "      <td>0.000000</td>\n",
       "      <td>0.000000</td>\n",
       "      <td>0.000000</td>\n",
       "      <td>0.000000</td>\n",
       "      <td>1.000000</td>\n",
       "      <td>1.000000</td>\n",
       "      <td>0.000000</td>\n",
       "      <td>0.000000</td>\n",
       "      <td>0.000</td>\n",
       "      <td>0.000000</td>\n",
       "      <td>0.000000</td>\n",
       "      <td>-4213.000000</td>\n",
       "    </tr>\n",
       "    <tr>\n",
       "      <th>25%</th>\n",
       "      <td>36210.750000</td>\n",
       "      <td>1915.000000</td>\n",
       "      <td>0.649600</td>\n",
       "      <td>1.360000</td>\n",
       "      <td>37.000000</td>\n",
       "      <td>36.000000</td>\n",
       "      <td>0.000000</td>\n",
       "      <td>132.000000</td>\n",
       "      <td>0.000</td>\n",
       "      <td>88.800000</td>\n",
       "      <td>1.000000</td>\n",
       "      <td>13.000000</td>\n",
       "    </tr>\n",
       "    <tr>\n",
       "      <th>50%</th>\n",
       "      <td>72421.500000</td>\n",
       "      <td>4513.000000</td>\n",
       "      <td>1.245100</td>\n",
       "      <td>2.540000</td>\n",
       "      <td>83.000000</td>\n",
       "      <td>82.000000</td>\n",
       "      <td>0.000000</td>\n",
       "      <td>356.000000</td>\n",
       "      <td>0.000</td>\n",
       "      <td>190.258333</td>\n",
       "      <td>2.000000</td>\n",
       "      <td>37.000000</td>\n",
       "    </tr>\n",
       "    <tr>\n",
       "      <th>75%</th>\n",
       "      <td>108632.250000</td>\n",
       "      <td>7634.000000</td>\n",
       "      <td>1.949900</td>\n",
       "      <td>4.120000</td>\n",
       "      <td>148.000000</td>\n",
       "      <td>147.000000</td>\n",
       "      <td>1.000000</td>\n",
       "      <td>913.000000</td>\n",
       "      <td>0.000</td>\n",
       "      <td>354.008333</td>\n",
       "      <td>27.000000</td>\n",
       "      <td>67.000000</td>\n",
       "    </tr>\n",
       "    <tr>\n",
       "      <th>max</th>\n",
       "      <td>156724.000000</td>\n",
       "      <td>13984.000000</td>\n",
       "      <td>54.690200</td>\n",
       "      <td>20.680000</td>\n",
       "      <td>558.000000</td>\n",
       "      <td>553.000000</td>\n",
       "      <td>10.000000</td>\n",
       "      <td>30469.000000</td>\n",
       "      <td>1.000</td>\n",
       "      <td>1210.316667</td>\n",
       "      <td>12215.000000</td>\n",
       "      <td>967.000000</td>\n",
       "    </tr>\n",
       "  </tbody>\n",
       "</table>\n",
       "</div>"
      ],
      "text/plain": [
       "            order_id       rider_id  first_mile_distance  last_mile_distance  \\\n",
       "count  144844.000000  144844.000000        144844.000000       144844.000000   \n",
       "mean    74594.701610    5050.498019             1.317988            2.846224   \n",
       "std     45018.049343    3587.392934             0.852682            1.832061   \n",
       "min         0.000000       0.000000             0.000000            0.000000   \n",
       "25%     36210.750000    1915.000000             0.649600            1.360000   \n",
       "50%     72421.500000    4513.000000             1.245100            2.540000   \n",
       "75%    108632.250000    7634.000000             1.949900            4.120000   \n",
       "max    156724.000000   13984.000000            54.690200           20.680000   \n",
       "\n",
       "       alloted_orders  delivered_orders  undelivered_orders  \\\n",
       "count   140071.000000     139960.000000       139960.000000   \n",
       "mean       105.236402        104.522542            0.796120   \n",
       "std         89.838188         89.347307            1.091238   \n",
       "min          1.000000          1.000000            0.000000   \n",
       "25%         37.000000         36.000000            0.000000   \n",
       "50%         83.000000         82.000000            0.000000   \n",
       "75%        148.000000        147.000000            1.000000   \n",
       "max        558.000000        553.000000           10.000000   \n",
       "\n",
       "       lifetime_order_count  reassigned_order   session_time  allot_duration  \\\n",
       "count         144066.000000        144844.000  139790.000000   144844.000000   \n",
       "mean             827.877716             0.032     236.664557       75.502976   \n",
       "std             1511.791891             0.176     187.018749      335.821612   \n",
       "min                0.000000             0.000       0.000000        0.000000   \n",
       "25%              132.000000             0.000      88.800000        1.000000   \n",
       "50%              356.000000             0.000     190.258333        2.000000   \n",
       "75%              913.000000             0.000     354.008333       27.000000   \n",
       "max            30469.000000             1.000    1210.316667    12215.000000   \n",
       "\n",
       "       accept_duration  \n",
       "count    144776.000000  \n",
       "mean         61.499889  \n",
       "std          99.865747  \n",
       "min       -4213.000000  \n",
       "25%          13.000000  \n",
       "50%          37.000000  \n",
       "75%          67.000000  \n",
       "max         967.000000  "
      ]
     },
     "execution_count": 33,
     "metadata": {},
     "output_type": "execute_result"
    }
   ],
   "source": [
    "test_df.describe()"
   ]
  },
  {
   "cell_type": "code",
   "execution_count": 34,
   "id": "7f42e7f9",
   "metadata": {},
   "outputs": [],
   "source": [
    "df = df.drop(['accept_duration'], axis = 1)\n",
    "test_df = test_df.drop(['accept_duration'], axis = 1)"
   ]
  },
  {
   "cell_type": "code",
   "execution_count": 35,
   "id": "8a6544cc",
   "metadata": {},
   "outputs": [
    {
     "data": {
      "image/png": "[encoded data removed]",
      "text/plain": [
       "<Figure size 432x288 with 1 Axes>"
      ]
     },
     "metadata": {
      "needs_background": "light"
     },
     "output_type": "display_data"
    },
    {
     "data": {
      "image/png": "[encoded data removed]",
      "text/plain": [
       "<Figure size 432x288 with 1 Axes>"
      ]
     },
     "metadata": {
      "needs_background": "light"
     },
     "output_type": "display_data"
    },
    {
     "data": {
      "image/png": "[encoded data removed]",
      "text/plain": [
       "<Figure size 432x288 with 1 Axes>"
      ]
     },
     "metadata": {
      "needs_background": "light"
     },
     "output_type": "display_data"
    },
    {
     "data": {
      "image/png": "[encoded data removed]",
      "text/plain": [
       "<Figure size 432x288 with 1 Axes>"
      ]
     },
     "metadata": {
      "needs_background": "light"
     },
     "output_type": "display_data"
    },
    {
     "data": {
      "image/png": "[encoded data removed]",
      "text/plain": [
       "<Figure size 432x288 with 1 Axes>"
      ]
     },
     "metadata": {
      "needs_background": "light"
     },
     "output_type": "display_data"
    },
    {
     "data": {
      "image/png": "[encoded data removed]",
      "text/plain": [
       "<Figure size 432x288 with 1 Axes>"
      ]
     },
     "metadata": {
      "needs_background": "light"
     },
     "output_type": "display_data"
    },
    {
     "data": {
      "image/png": "[encoded data removed]",
      "text/plain": [
       "<Figure size 432x288 with 1 Axes>"
      ]
     },
     "metadata": {
      "needs_background": "light"
     },
     "output_type": "display_data"
    },
    {
     "data": {
      "image/png": "[encoded data removed]",
      "text/plain": [
       "<Figure size 432x288 with 1 Axes>"
      ]
     },
     "metadata": {
      "needs_background": "light"
     },
     "output_type": "display_data"
    },
    {
     "data": {
      "image/png": "[encoded data removed]",
      "text/plain": [
       "<Figure size 432x288 with 1 Axes>"
      ]
     },
     "metadata": {
      "needs_background": "light"
     },
     "output_type": "display_data"
    }
   ],
   "source": [
    "num_cols = ['first_mile_distance','last_mile_distance', 'alloted_orders', 'delivered_orders','undelivered_orders','lifetime_order_count','reassigned_order','session_time','allot_duration']\n",
    "for col in num_cols:\n",
    "    sns.boxplot(y = df['cancelled'].astype('category'), x = col, data=df)\n",
    "    plt.show()"
   ]
  },
  {
   "cell_type": "code",
   "execution_count": 36,
   "id": "8d77f353",
   "metadata": {},
   "outputs": [],
   "source": [
    "df = df.drop(['first_mile_distance', 'undelivered_orders','reassigned_order'], axis = 1)\n",
    "test_df = test_df.drop(['first_mile_distance','undelivered_orders','reassigned_order'], axis = 1)"
   ]
  },
  {
   "cell_type": "code",
   "execution_count": 37,
   "id": "4eb1ab8d",
   "metadata": {},
   "outputs": [
    {
     "data": {
      "text/html": [
       "<div>\n",
       "<style scoped>\n",
       "    .dataframe tbody tr th:only-of-type {\n",
       "        vertical-align: middle;\n",
       "    }\n",
       "\n",
       "    .dataframe tbody tr th {\n",
       "        vertical-align: top;\n",
       "    }\n",
       "\n",
       "    .dataframe thead th {\n",
       "        text-align: right;\n",
       "    }\n",
       "</style>\n",
       "<table border=\"1\" class=\"dataframe\">\n",
       "  <thead>\n",
       "    <tr style=\"text-align: right;\">\n",
       "      <th>reassignment_reason</th>\n",
       "      <th>0</th>\n",
       "      <th>Auto Reassignment basis Inaction. coreengine.tasks.repush_order_to_aa_bucket</th>\n",
       "      <th>Reassign</th>\n",
       "      <th>Reassignment Request from SE portal.</th>\n",
       "    </tr>\n",
       "    <tr>\n",
       "      <th>cancelled</th>\n",
       "      <th></th>\n",
       "      <th></th>\n",
       "      <th></th>\n",
       "      <th></th>\n",
       "    </tr>\n",
       "  </thead>\n",
       "  <tbody>\n",
       "    <tr>\n",
       "      <th>0</th>\n",
       "      <td>0.970703</td>\n",
       "      <td>0.015799</td>\n",
       "      <td>0.002176</td>\n",
       "      <td>0.011322</td>\n",
       "    </tr>\n",
       "    <tr>\n",
       "      <th>1</th>\n",
       "      <td>0.861633</td>\n",
       "      <td>0.035454</td>\n",
       "      <td>0.052319</td>\n",
       "      <td>0.050594</td>\n",
       "    </tr>\n",
       "  </tbody>\n",
       "</table>\n",
       "</div>"
      ],
      "text/plain": [
       "reassignment_reason         0  \\\n",
       "cancelled                       \n",
       "0                    0.970703   \n",
       "1                    0.861633   \n",
       "\n",
       "reassignment_reason  Auto Reassignment basis Inaction. coreengine.tasks.repush_order_to_aa_bucket  \\\n",
       "cancelled                                                                                           \n",
       "0                                                             0.015799                              \n",
       "1                                                             0.035454                              \n",
       "\n",
       "reassignment_reason  Reassign  Reassignment Request from SE portal.  \n",
       "cancelled                                                            \n",
       "0                    0.002176                              0.011322  \n",
       "1                    0.052319                              0.050594  "
      ]
     },
     "metadata": {},
     "output_type": "display_data"
    }
   ],
   "source": [
    "for col in df.select_dtypes(include='object'):\n",
    "    if df[col].nunique() <=4:\n",
    "        display(pd.crosstab(df['cancelled'], df[col], normalize='index'))        "
   ]
  },
  {
   "cell_type": "code",
   "execution_count": 38,
   "id": "e783c3e9",
   "metadata": {},
   "outputs": [
    {
     "data": {
      "image/png": "[encoded data removed]",
      "text/plain": [
       "<Figure size 720x360 with 2 Axes>"
      ]
     },
     "metadata": {
      "needs_background": "light"
     },
     "output_type": "display_data"
    }
   ],
   "source": [
    "\n",
    "for col in df.select_dtypes(include='object'):\n",
    "    if df[col].nunique() > 0:\n",
    "        g = sns.catplot(x = col, kind='count', col = 'cancelled', data=df, sharey=False)\n",
    "        g.set_xticklabels(rotation=60)"
   ]
  },
  {
   "cell_type": "code",
   "execution_count": 39,
   "id": "2601822e",
   "metadata": {},
   "outputs": [
    {
     "data": {
      "text/html": [
       "<div>\n",
       "<style scoped>\n",
       "    .dataframe tbody tr th:only-of-type {\n",
       "        vertical-align: middle;\n",
       "    }\n",
       "\n",
       "    .dataframe tbody tr th {\n",
       "        vertical-align: top;\n",
       "    }\n",
       "\n",
       "    .dataframe thead th {\n",
       "        text-align: right;\n",
       "    }\n",
       "</style>\n",
       "<table border=\"1\" class=\"dataframe\">\n",
       "  <thead>\n",
       "    <tr style=\"text-align: right;\">\n",
       "      <th></th>\n",
       "      <th>cancelled</th>\n",
       "      <th>last_mile_distance</th>\n",
       "      <th>alloted_orders</th>\n",
       "      <th>delivered_orders</th>\n",
       "      <th>lifetime_order_count</th>\n",
       "      <th>session_time</th>\n",
       "    </tr>\n",
       "    <tr>\n",
       "      <th>reassignment_reason</th>\n",
       "      <th></th>\n",
       "      <th></th>\n",
       "      <th></th>\n",
       "      <th></th>\n",
       "      <th></th>\n",
       "      <th></th>\n",
       "    </tr>\n",
       "  </thead>\n",
       "  <tbody>\n",
       "    <tr>\n",
       "      <th>0</th>\n",
       "      <td>0.010306</td>\n",
       "      <td>2.970217</td>\n",
       "      <td>104.888625</td>\n",
       "      <td>104.217617</td>\n",
       "      <td>850.217405</td>\n",
       "      <td>220.203865</td>\n",
       "    </tr>\n",
       "    <tr>\n",
       "      <th>Auto Reassignment basis Inaction. coreengine.tasks.repush_order_to_aa_bucket</th>\n",
       "      <td>0.025652</td>\n",
       "      <td>2.740354</td>\n",
       "      <td>101.457253</td>\n",
       "      <td>100.799943</td>\n",
       "      <td>901.257075</td>\n",
       "      <td>224.481793</td>\n",
       "    </tr>\n",
       "    <tr>\n",
       "      <th>Reassign</th>\n",
       "      <td>0.219984</td>\n",
       "      <td>2.933030</td>\n",
       "      <td>96.185464</td>\n",
       "      <td>95.432749</td>\n",
       "      <td>903.715552</td>\n",
       "      <td>221.293856</td>\n",
       "    </tr>\n",
       "    <tr>\n",
       "      <th>Reassignment Request from SE portal.</th>\n",
       "      <td>0.049811</td>\n",
       "      <td>3.177596</td>\n",
       "      <td>88.900412</td>\n",
       "      <td>88.274529</td>\n",
       "      <td>1058.936026</td>\n",
       "      <td>238.140808</td>\n",
       "    </tr>\n",
       "  </tbody>\n",
       "</table>\n",
       "</div>"
      ],
      "text/plain": [
       "                                                    cancelled  \\\n",
       "reassignment_reason                                             \n",
       "0                                                    0.010306   \n",
       "Auto Reassignment basis Inaction. coreengine.ta...   0.025652   \n",
       "Reassign                                             0.219984   \n",
       "Reassignment Request from SE portal.                 0.049811   \n",
       "\n",
       "                                                    last_mile_distance  \\\n",
       "reassignment_reason                                                      \n",
       "0                                                             2.970217   \n",
       "Auto Reassignment basis Inaction. coreengine.ta...            2.740354   \n",
       "Reassign                                                      2.933030   \n",
       "Reassignment Request from SE portal.                          3.177596   \n",
       "\n",
       "                                                    alloted_orders  \\\n",
       "reassignment_reason                                                  \n",
       "0                                                       104.888625   \n",
       "Auto Reassignment basis Inaction. coreengine.ta...      101.457253   \n",
       "Reassign                                                 96.185464   \n",
       "Reassignment Request from SE portal.                     88.900412   \n",
       "\n",
       "                                                    delivered_orders  \\\n",
       "reassignment_reason                                                    \n",
       "0                                                         104.217617   \n",
       "Auto Reassignment basis Inaction. coreengine.ta...        100.799943   \n",
       "Reassign                                                   95.432749   \n",
       "Reassignment Request from SE portal.                       88.274529   \n",
       "\n",
       "                                                    lifetime_order_count  \\\n",
       "reassignment_reason                                                        \n",
       "0                                                             850.217405   \n",
       "Auto Reassignment basis Inaction. coreengine.ta...            901.257075   \n",
       "Reassign                                                      903.715552   \n",
       "Reassignment Request from SE portal.                         1058.936026   \n",
       "\n",
       "                                                    session_time  \n",
       "reassignment_reason                                               \n",
       "0                                                     220.203865  \n",
       "Auto Reassignment basis Inaction. coreengine.ta...    224.481793  \n",
       "Reassign                                              221.293856  \n",
       "Reassignment Request from SE portal.                  238.140808  "
      ]
     },
     "metadata": {},
     "output_type": "display_data"
    }
   ],
   "source": [
    "for col in df.select_dtypes(include='object'):\n",
    "    if df[col].nunique() <= 4:\n",
    "        display(df.groupby(col)[['cancelled','last_mile_distance', 'alloted_orders', 'delivered_orders','lifetime_order_count','session_time']].mean())"
   ]
  },
  {
   "cell_type": "code",
   "execution_count": 40,
   "id": "be4e8bdd",
   "metadata": {},
   "outputs": [
    {
     "data": {
      "image/png": "[encoded data removed]",
      "text/plain": [
       "<Figure size 432x432 with 2 Axes>"
      ]
     },
     "metadata": {
      "needs_background": "light"
     },
     "output_type": "display_data"
    }
   ],
   "source": [
    "plt.figure(figsize=(6,6))\n",
    "sns.heatmap(df.corr(), cmap='RdBu_r', annot=True, vmax=1, vmin=-1)\n",
    "plt.show()"
   ]
  },
  {
   "cell_type": "code",
   "execution_count": 41,
   "id": "0c286c91",
   "metadata": {},
   "outputs": [
    {
     "data": {
      "text/html": [
       "<div>\n",
       "<style scoped>\n",
       "    .dataframe tbody tr th:only-of-type {\n",
       "        vertical-align: middle;\n",
       "    }\n",
       "\n",
       "    .dataframe tbody tr th {\n",
       "        vertical-align: top;\n",
       "    }\n",
       "\n",
       "    .dataframe thead th {\n",
       "        text-align: right;\n",
       "    }\n",
       "</style>\n",
       "<table border=\"1\" class=\"dataframe\">\n",
       "  <thead>\n",
       "    <tr style=\"text-align: right;\">\n",
       "      <th></th>\n",
       "      <th>order_time</th>\n",
       "      <th>order_id</th>\n",
       "      <th>allot_time</th>\n",
       "      <th>accept_time</th>\n",
       "      <th>rider_id</th>\n",
       "      <th>last_mile_distance</th>\n",
       "      <th>alloted_orders</th>\n",
       "      <th>delivered_orders</th>\n",
       "      <th>cancelled</th>\n",
       "      <th>lifetime_order_count</th>\n",
       "      <th>reassignment_reason</th>\n",
       "      <th>session_time</th>\n",
       "      <th>allot_duration</th>\n",
       "    </tr>\n",
       "  </thead>\n",
       "  <tbody>\n",
       "    <tr>\n",
       "      <th>0</th>\n",
       "      <td>2021-01-26 02:21:35</td>\n",
       "      <td>556753</td>\n",
       "      <td>2021-01-26 02:21:59</td>\n",
       "      <td>2021-01-26 02:22:08</td>\n",
       "      <td>11696</td>\n",
       "      <td>2.65</td>\n",
       "      <td>46.0</td>\n",
       "      <td>46.0</td>\n",
       "      <td>0</td>\n",
       "      <td>621.0</td>\n",
       "      <td>0</td>\n",
       "      <td>NaN</td>\n",
       "      <td>24.0</td>\n",
       "    </tr>\n",
       "    <tr>\n",
       "      <th>1</th>\n",
       "      <td>2021-01-26 02:33:16</td>\n",
       "      <td>556754</td>\n",
       "      <td>2021-01-26 02:33:57</td>\n",
       "      <td>2021-01-26 02:34:45</td>\n",
       "      <td>18117</td>\n",
       "      <td>2.76</td>\n",
       "      <td>8.0</td>\n",
       "      <td>8.0</td>\n",
       "      <td>0</td>\n",
       "      <td>105.0</td>\n",
       "      <td>0</td>\n",
       "      <td>3.266667</td>\n",
       "      <td>41.0</td>\n",
       "    </tr>\n",
       "    <tr>\n",
       "      <th>2</th>\n",
       "      <td>2021-01-26 02:39:49</td>\n",
       "      <td>556755</td>\n",
       "      <td>2021-01-26 02:39:57</td>\n",
       "      <td>2021-01-26 02:40:13</td>\n",
       "      <td>18623</td>\n",
       "      <td>4.80</td>\n",
       "      <td>1.0</td>\n",
       "      <td>1.0</td>\n",
       "      <td>0</td>\n",
       "      <td>66.0</td>\n",
       "      <td>0</td>\n",
       "      <td>9.816667</td>\n",
       "      <td>8.0</td>\n",
       "    </tr>\n",
       "    <tr>\n",
       "      <th>3</th>\n",
       "      <td>2021-01-26 02:47:53</td>\n",
       "      <td>556756</td>\n",
       "      <td>2021-01-26 02:48:25</td>\n",
       "      <td>2021-01-26 02:49:06</td>\n",
       "      <td>15945</td>\n",
       "      <td>6.38</td>\n",
       "      <td>1.0</td>\n",
       "      <td>1.0</td>\n",
       "      <td>0</td>\n",
       "      <td>127.0</td>\n",
       "      <td>0</td>\n",
       "      <td>17.533333</td>\n",
       "      <td>32.0</td>\n",
       "    </tr>\n",
       "    <tr>\n",
       "      <th>4</th>\n",
       "      <td>2021-01-26 03:06:30</td>\n",
       "      <td>556757</td>\n",
       "      <td>2021-01-26 03:07:21</td>\n",
       "      <td>2021-01-26 03:07:57</td>\n",
       "      <td>17589</td>\n",
       "      <td>4.01</td>\n",
       "      <td>34.0</td>\n",
       "      <td>34.0</td>\n",
       "      <td>0</td>\n",
       "      <td>84.0</td>\n",
       "      <td>0</td>\n",
       "      <td>1.350000</td>\n",
       "      <td>51.0</td>\n",
       "    </tr>\n",
       "  </tbody>\n",
       "</table>\n",
       "</div>"
      ],
      "text/plain": [
       "           order_time  order_id          allot_time         accept_time  \\\n",
       "0 2021-01-26 02:21:35    556753 2021-01-26 02:21:59 2021-01-26 02:22:08   \n",
       "1 2021-01-26 02:33:16    556754 2021-01-26 02:33:57 2021-01-26 02:34:45   \n",
       "2 2021-01-26 02:39:49    556755 2021-01-26 02:39:57 2021-01-26 02:40:13   \n",
       "3 2021-01-26 02:47:53    556756 2021-01-26 02:48:25 2021-01-26 02:49:06   \n",
       "4 2021-01-26 03:06:30    556757 2021-01-26 03:07:21 2021-01-26 03:07:57   \n",
       "\n",
       "   rider_id  last_mile_distance  alloted_orders  delivered_orders  cancelled  \\\n",
       "0     11696                2.65            46.0              46.0          0   \n",
       "1     18117                2.76             8.0               8.0          0   \n",
       "2     18623                4.80             1.0               1.0          0   \n",
       "3     15945                6.38             1.0               1.0          0   \n",
       "4     17589                4.01            34.0              34.0          0   \n",
       "\n",
       "   lifetime_order_count reassignment_reason  session_time  allot_duration  \n",
       "0                 621.0                   0           NaN            24.0  \n",
       "1                 105.0                   0      3.266667            41.0  \n",
       "2                  66.0                   0      9.816667             8.0  \n",
       "3                 127.0                   0     17.533333            32.0  \n",
       "4                  84.0                   0      1.350000            51.0  "
      ]
     },
     "execution_count": 41,
     "metadata": {},
     "output_type": "execute_result"
    }
   ],
   "source": [
    "df.head()"
   ]
  },
  {
   "cell_type": "code",
   "execution_count": 42,
   "id": "99ee9602",
   "metadata": {},
   "outputs": [],
   "source": [
    "df = df.drop(['accept_time'], axis = 1)\n",
    "test_df = test_df.drop(['accept_time'], axis = 1)"
   ]
  },
  {
   "cell_type": "code",
   "execution_count": 43,
   "id": "0fc4920f",
   "metadata": {},
   "outputs": [],
   "source": [
    "df['order_time'] = pd.Series([val.time() for val in df['order_time']])"
   ]
  },
  {
   "cell_type": "code",
   "execution_count": 44,
   "id": "d2da3ce0",
   "metadata": {},
   "outputs": [
    {
     "data": {
      "text/html": [
       "<div>\n",
       "<style scoped>\n",
       "    .dataframe tbody tr th:only-of-type {\n",
       "        vertical-align: middle;\n",
       "    }\n",
       "\n",
       "    .dataframe tbody tr th {\n",
       "        vertical-align: top;\n",
       "    }\n",
       "\n",
       "    .dataframe thead th {\n",
       "        text-align: right;\n",
       "    }\n",
       "</style>\n",
       "<table border=\"1\" class=\"dataframe\">\n",
       "  <thead>\n",
       "    <tr style=\"text-align: right;\">\n",
       "      <th></th>\n",
       "      <th>order_time</th>\n",
       "      <th>order_id</th>\n",
       "      <th>allot_time</th>\n",
       "      <th>rider_id</th>\n",
       "      <th>last_mile_distance</th>\n",
       "      <th>alloted_orders</th>\n",
       "      <th>delivered_orders</th>\n",
       "      <th>cancelled</th>\n",
       "      <th>lifetime_order_count</th>\n",
       "      <th>reassignment_reason</th>\n",
       "      <th>session_time</th>\n",
       "      <th>allot_duration</th>\n",
       "    </tr>\n",
       "  </thead>\n",
       "  <tbody>\n",
       "    <tr>\n",
       "      <th>0</th>\n",
       "      <td>02:21:35</td>\n",
       "      <td>556753</td>\n",
       "      <td>2021-01-26 02:21:59</td>\n",
       "      <td>11696</td>\n",
       "      <td>2.65</td>\n",
       "      <td>46.0</td>\n",
       "      <td>46.0</td>\n",
       "      <td>0</td>\n",
       "      <td>621.0</td>\n",
       "      <td>0</td>\n",
       "      <td>NaN</td>\n",
       "      <td>24.0</td>\n",
       "    </tr>\n",
       "    <tr>\n",
       "      <th>1</th>\n",
       "      <td>02:33:16</td>\n",
       "      <td>556754</td>\n",
       "      <td>2021-01-26 02:33:57</td>\n",
       "      <td>18117</td>\n",
       "      <td>2.76</td>\n",
       "      <td>8.0</td>\n",
       "      <td>8.0</td>\n",
       "      <td>0</td>\n",
       "      <td>105.0</td>\n",
       "      <td>0</td>\n",
       "      <td>3.266667</td>\n",
       "      <td>41.0</td>\n",
       "    </tr>\n",
       "    <tr>\n",
       "      <th>2</th>\n",
       "      <td>02:39:49</td>\n",
       "      <td>556755</td>\n",
       "      <td>2021-01-26 02:39:57</td>\n",
       "      <td>18623</td>\n",
       "      <td>4.80</td>\n",
       "      <td>1.0</td>\n",
       "      <td>1.0</td>\n",
       "      <td>0</td>\n",
       "      <td>66.0</td>\n",
       "      <td>0</td>\n",
       "      <td>9.816667</td>\n",
       "      <td>8.0</td>\n",
       "    </tr>\n",
       "    <tr>\n",
       "      <th>3</th>\n",
       "      <td>02:47:53</td>\n",
       "      <td>556756</td>\n",
       "      <td>2021-01-26 02:48:25</td>\n",
       "      <td>15945</td>\n",
       "      <td>6.38</td>\n",
       "      <td>1.0</td>\n",
       "      <td>1.0</td>\n",
       "      <td>0</td>\n",
       "      <td>127.0</td>\n",
       "      <td>0</td>\n",
       "      <td>17.533333</td>\n",
       "      <td>32.0</td>\n",
       "    </tr>\n",
       "    <tr>\n",
       "      <th>4</th>\n",
       "      <td>03:06:30</td>\n",
       "      <td>556757</td>\n",
       "      <td>2021-01-26 03:07:21</td>\n",
       "      <td>17589</td>\n",
       "      <td>4.01</td>\n",
       "      <td>34.0</td>\n",
       "      <td>34.0</td>\n",
       "      <td>0</td>\n",
       "      <td>84.0</td>\n",
       "      <td>0</td>\n",
       "      <td>1.350000</td>\n",
       "      <td>51.0</td>\n",
       "    </tr>\n",
       "  </tbody>\n",
       "</table>\n",
       "</div>"
      ],
      "text/plain": [
       "  order_time  order_id          allot_time  rider_id  last_mile_distance  \\\n",
       "0   02:21:35    556753 2021-01-26 02:21:59     11696                2.65   \n",
       "1   02:33:16    556754 2021-01-26 02:33:57     18117                2.76   \n",
       "2   02:39:49    556755 2021-01-26 02:39:57     18623                4.80   \n",
       "3   02:47:53    556756 2021-01-26 02:48:25     15945                6.38   \n",
       "4   03:06:30    556757 2021-01-26 03:07:21     17589                4.01   \n",
       "\n",
       "   alloted_orders  delivered_orders  cancelled  lifetime_order_count  \\\n",
       "0            46.0              46.0          0                 621.0   \n",
       "1             8.0               8.0          0                 105.0   \n",
       "2             1.0               1.0          0                  66.0   \n",
       "3             1.0               1.0          0                 127.0   \n",
       "4            34.0              34.0          0                  84.0   \n",
       "\n",
       "  reassignment_reason  session_time  allot_duration  \n",
       "0                   0           NaN            24.0  \n",
       "1                   0      3.266667            41.0  \n",
       "2                   0      9.816667             8.0  \n",
       "3                   0     17.533333            32.0  \n",
       "4                   0      1.350000            51.0  "
      ]
     },
     "execution_count": 44,
     "metadata": {},
     "output_type": "execute_result"
    }
   ],
   "source": [
    "df.head()"
   ]
  },
  {
   "cell_type": "code",
   "execution_count": 45,
   "id": "19e9c120",
   "metadata": {},
   "outputs": [],
   "source": [
    "df['allot_time'] = pd.Series([val.time() for val in df['allot_time']])\n",
    "test_df['order_time'] = pd.Series([val.time() for val in test_df['order_time']])\n",
    "test_df['allot_time'] = pd.Series([val.time() for val in test_df['allot_time']])"
   ]
  },
  {
   "cell_type": "code",
   "execution_count": 46,
   "id": "2c35990f",
   "metadata": {},
   "outputs": [
    {
     "data": {
      "text/html": [
       "<div>\n",
       "<style scoped>\n",
       "    .dataframe tbody tr th:only-of-type {\n",
       "        vertical-align: middle;\n",
       "    }\n",
       "\n",
       "    .dataframe tbody tr th {\n",
       "        vertical-align: top;\n",
       "    }\n",
       "\n",
       "    .dataframe thead th {\n",
       "        text-align: right;\n",
       "    }\n",
       "</style>\n",
       "<table border=\"1\" class=\"dataframe\">\n",
       "  <thead>\n",
       "    <tr style=\"text-align: right;\">\n",
       "      <th></th>\n",
       "      <th>order_time</th>\n",
       "      <th>order_id</th>\n",
       "      <th>allot_time</th>\n",
       "      <th>rider_id</th>\n",
       "      <th>last_mile_distance</th>\n",
       "      <th>alloted_orders</th>\n",
       "      <th>delivered_orders</th>\n",
       "      <th>cancelled</th>\n",
       "      <th>lifetime_order_count</th>\n",
       "      <th>reassignment_reason</th>\n",
       "      <th>session_time</th>\n",
       "      <th>allot_duration</th>\n",
       "    </tr>\n",
       "  </thead>\n",
       "  <tbody>\n",
       "    <tr>\n",
       "      <th>0</th>\n",
       "      <td>02:21:35</td>\n",
       "      <td>556753</td>\n",
       "      <td>02:21:59</td>\n",
       "      <td>11696</td>\n",
       "      <td>2.65</td>\n",
       "      <td>46.0</td>\n",
       "      <td>46.0</td>\n",
       "      <td>0</td>\n",
       "      <td>621.0</td>\n",
       "      <td>0</td>\n",
       "      <td>NaN</td>\n",
       "      <td>24.0</td>\n",
       "    </tr>\n",
       "    <tr>\n",
       "      <th>1</th>\n",
       "      <td>02:33:16</td>\n",
       "      <td>556754</td>\n",
       "      <td>02:33:57</td>\n",
       "      <td>18117</td>\n",
       "      <td>2.76</td>\n",
       "      <td>8.0</td>\n",
       "      <td>8.0</td>\n",
       "      <td>0</td>\n",
       "      <td>105.0</td>\n",
       "      <td>0</td>\n",
       "      <td>3.266667</td>\n",
       "      <td>41.0</td>\n",
       "    </tr>\n",
       "    <tr>\n",
       "      <th>2</th>\n",
       "      <td>02:39:49</td>\n",
       "      <td>556755</td>\n",
       "      <td>02:39:57</td>\n",
       "      <td>18623</td>\n",
       "      <td>4.80</td>\n",
       "      <td>1.0</td>\n",
       "      <td>1.0</td>\n",
       "      <td>0</td>\n",
       "      <td>66.0</td>\n",
       "      <td>0</td>\n",
       "      <td>9.816667</td>\n",
       "      <td>8.0</td>\n",
       "    </tr>\n",
       "    <tr>\n",
       "      <th>3</th>\n",
       "      <td>02:47:53</td>\n",
       "      <td>556756</td>\n",
       "      <td>02:48:25</td>\n",
       "      <td>15945</td>\n",
       "      <td>6.38</td>\n",
       "      <td>1.0</td>\n",
       "      <td>1.0</td>\n",
       "      <td>0</td>\n",
       "      <td>127.0</td>\n",
       "      <td>0</td>\n",
       "      <td>17.533333</td>\n",
       "      <td>32.0</td>\n",
       "    </tr>\n",
       "    <tr>\n",
       "      <th>4</th>\n",
       "      <td>03:06:30</td>\n",
       "      <td>556757</td>\n",
       "      <td>03:07:21</td>\n",
       "      <td>17589</td>\n",
       "      <td>4.01</td>\n",
       "      <td>34.0</td>\n",
       "      <td>34.0</td>\n",
       "      <td>0</td>\n",
       "      <td>84.0</td>\n",
       "      <td>0</td>\n",
       "      <td>1.350000</td>\n",
       "      <td>51.0</td>\n",
       "    </tr>\n",
       "  </tbody>\n",
       "</table>\n",
       "</div>"
      ],
      "text/plain": [
       "  order_time  order_id allot_time  rider_id  last_mile_distance  \\\n",
       "0   02:21:35    556753   02:21:59     11696                2.65   \n",
       "1   02:33:16    556754   02:33:57     18117                2.76   \n",
       "2   02:39:49    556755   02:39:57     18623                4.80   \n",
       "3   02:47:53    556756   02:48:25     15945                6.38   \n",
       "4   03:06:30    556757   03:07:21     17589                4.01   \n",
       "\n",
       "   alloted_orders  delivered_orders  cancelled  lifetime_order_count  \\\n",
       "0            46.0              46.0          0                 621.0   \n",
       "1             8.0               8.0          0                 105.0   \n",
       "2             1.0               1.0          0                  66.0   \n",
       "3             1.0               1.0          0                 127.0   \n",
       "4            34.0              34.0          0                  84.0   \n",
       "\n",
       "  reassignment_reason  session_time  allot_duration  \n",
       "0                   0           NaN            24.0  \n",
       "1                   0      3.266667            41.0  \n",
       "2                   0      9.816667             8.0  \n",
       "3                   0     17.533333            32.0  \n",
       "4                   0      1.350000            51.0  "
      ]
     },
     "execution_count": 46,
     "metadata": {},
     "output_type": "execute_result"
    }
   ],
   "source": [
    "df.head()"
   ]
  },
  {
   "cell_type": "code",
   "execution_count": 47,
   "id": "3070d517",
   "metadata": {},
   "outputs": [
    {
     "data": {
      "text/html": [
       "<div>\n",
       "<style scoped>\n",
       "    .dataframe tbody tr th:only-of-type {\n",
       "        vertical-align: middle;\n",
       "    }\n",
       "\n",
       "    .dataframe tbody tr th {\n",
       "        vertical-align: top;\n",
       "    }\n",
       "\n",
       "    .dataframe thead th {\n",
       "        text-align: right;\n",
       "    }\n",
       "</style>\n",
       "<table border=\"1\" class=\"dataframe\">\n",
       "  <thead>\n",
       "    <tr style=\"text-align: right;\">\n",
       "      <th></th>\n",
       "      <th>order_time</th>\n",
       "      <th>order_id</th>\n",
       "      <th>allot_time</th>\n",
       "      <th>rider_id</th>\n",
       "      <th>last_mile_distance</th>\n",
       "      <th>alloted_orders</th>\n",
       "      <th>delivered_orders</th>\n",
       "      <th>lifetime_order_count</th>\n",
       "      <th>reassignment_reason</th>\n",
       "      <th>session_time</th>\n",
       "      <th>allot_duration</th>\n",
       "    </tr>\n",
       "  </thead>\n",
       "  <tbody>\n",
       "    <tr>\n",
       "      <th>0</th>\n",
       "      <td>10:03:24</td>\n",
       "      <td>130231</td>\n",
       "      <td>10:03:49</td>\n",
       "      <td>12884</td>\n",
       "      <td>4.54</td>\n",
       "      <td>216.0</td>\n",
       "      <td>215.0</td>\n",
       "      <td>747.0</td>\n",
       "      <td>0</td>\n",
       "      <td>273.400000</td>\n",
       "      <td>25.0</td>\n",
       "    </tr>\n",
       "    <tr>\n",
       "      <th>1</th>\n",
       "      <td>10:03:26</td>\n",
       "      <td>130232</td>\n",
       "      <td>10:03:27</td>\n",
       "      <td>3541</td>\n",
       "      <td>5.84</td>\n",
       "      <td>52.0</td>\n",
       "      <td>52.0</td>\n",
       "      <td>75.0</td>\n",
       "      <td>0</td>\n",
       "      <td>252.100000</td>\n",
       "      <td>1.0</td>\n",
       "    </tr>\n",
       "    <tr>\n",
       "      <th>2</th>\n",
       "      <td>10:03:27</td>\n",
       "      <td>130233</td>\n",
       "      <td>10:04:14</td>\n",
       "      <td>603</td>\n",
       "      <td>0.99</td>\n",
       "      <td>289.0</td>\n",
       "      <td>289.0</td>\n",
       "      <td>2214.0</td>\n",
       "      <td>0</td>\n",
       "      <td>241.383333</td>\n",
       "      <td>47.0</td>\n",
       "    </tr>\n",
       "    <tr>\n",
       "      <th>3</th>\n",
       "      <td>10:03:29</td>\n",
       "      <td>130234</td>\n",
       "      <td>10:03:30</td>\n",
       "      <td>3414</td>\n",
       "      <td>2.59</td>\n",
       "      <td>125.0</td>\n",
       "      <td>122.0</td>\n",
       "      <td>1020.0</td>\n",
       "      <td>0</td>\n",
       "      <td>291.933333</td>\n",
       "      <td>1.0</td>\n",
       "    </tr>\n",
       "    <tr>\n",
       "      <th>4</th>\n",
       "      <td>10:03:35</td>\n",
       "      <td>130235</td>\n",
       "      <td>10:03:43</td>\n",
       "      <td>1426</td>\n",
       "      <td>0.94</td>\n",
       "      <td>352.0</td>\n",
       "      <td>350.0</td>\n",
       "      <td>7284.0</td>\n",
       "      <td>0</td>\n",
       "      <td>247.133333</td>\n",
       "      <td>8.0</td>\n",
       "    </tr>\n",
       "  </tbody>\n",
       "</table>\n",
       "</div>"
      ],
      "text/plain": [
       "  order_time  order_id allot_time  rider_id  last_mile_distance  \\\n",
       "0   10:03:24    130231   10:03:49     12884                4.54   \n",
       "1   10:03:26    130232   10:03:27      3541                5.84   \n",
       "2   10:03:27    130233   10:04:14       603                0.99   \n",
       "3   10:03:29    130234   10:03:30      3414                2.59   \n",
       "4   10:03:35    130235   10:03:43      1426                0.94   \n",
       "\n",
       "   alloted_orders  delivered_orders  lifetime_order_count reassignment_reason  \\\n",
       "0           216.0             215.0                 747.0                   0   \n",
       "1            52.0              52.0                  75.0                   0   \n",
       "2           289.0             289.0                2214.0                   0   \n",
       "3           125.0             122.0                1020.0                   0   \n",
       "4           352.0             350.0                7284.0                   0   \n",
       "\n",
       "   session_time  allot_duration  \n",
       "0    273.400000            25.0  \n",
       "1    252.100000             1.0  \n",
       "2    241.383333            47.0  \n",
       "3    291.933333             1.0  \n",
       "4    247.133333             8.0  "
      ]
     },
     "execution_count": 47,
     "metadata": {},
     "output_type": "execute_result"
    }
   ],
   "source": [
    "test_df.head()"
   ]
  },
  {
   "cell_type": "code",
   "execution_count": 48,
   "id": "c3205071",
   "metadata": {},
   "outputs": [
    {
     "data": {
      "text/plain": [
       "13:32:46    50\n",
       "13:32:50    48\n",
       "13:32:13    48\n",
       "13:34:54    44\n",
       "13:32:03    43\n",
       "            ..\n",
       "11:32:38     1\n",
       "10:14:38     1\n",
       "06:10:43     1\n",
       "12:10:01     1\n",
       "10:37:56     1\n",
       "Name: order_time, Length: 43383, dtype: int64"
      ]
     },
     "execution_count": 48,
     "metadata": {},
     "output_type": "execute_result"
    }
   ],
   "source": [
    "df['order_time'].value_counts()"
   ]
  },
  {
   "cell_type": "code",
   "execution_count": 49,
   "id": "7c35a13a",
   "metadata": {},
   "outputs": [
    {
     "data": {
      "text/plain": [
       "15:07:04    21\n",
       "14:02:45    21\n",
       "13:34:57    20\n",
       "14:16:39    20\n",
       "13:33:10    19\n",
       "            ..\n",
       "07:33:35     1\n",
       "09:58:26     1\n",
       "10:59:04     1\n",
       "11:00:55     1\n",
       "11:32:05     1\n",
       "Name: order_time, Length: 35743, dtype: int64"
      ]
     },
     "execution_count": 49,
     "metadata": {},
     "output_type": "execute_result"
    }
   ],
   "source": [
    "test_df['order_time'].value_counts()"
   ]
  },
  {
   "cell_type": "code",
   "execution_count": 50,
   "id": "9882a8f7",
   "metadata": {},
   "outputs": [],
   "source": [
    "df['order_time'] = pd.Series(val.strftime('%H') for val in df['order_time'])"
   ]
  },
  {
   "cell_type": "code",
   "execution_count": 51,
   "id": "06a4018f",
   "metadata": {},
   "outputs": [],
   "source": [
    "test_df['order_time'] = pd.Series(val.strftime('%H') for val in test_df['order_time'])"
   ]
  },
  {
   "cell_type": "code",
   "execution_count": 52,
   "id": "74e8986b",
   "metadata": {},
   "outputs": [],
   "source": [
    "df['allot_time'] = pd.Series(val.strftime('%H') for val in df['allot_time'])"
   ]
  },
  {
   "cell_type": "code",
   "execution_count": 53,
   "id": "fc105848",
   "metadata": {},
   "outputs": [],
   "source": [
    "test_df['allot_time'] = pd.Series(val.strftime('%H') for val in test_df['allot_time'])"
   ]
  },
  {
   "cell_type": "code",
   "execution_count": 54,
   "id": "2f917ec9",
   "metadata": {},
   "outputs": [
    {
     "data": {
      "text/html": [
       "<div>\n",
       "<style scoped>\n",
       "    .dataframe tbody tr th:only-of-type {\n",
       "        vertical-align: middle;\n",
       "    }\n",
       "\n",
       "    .dataframe tbody tr th {\n",
       "        vertical-align: top;\n",
       "    }\n",
       "\n",
       "    .dataframe thead th {\n",
       "        text-align: right;\n",
       "    }\n",
       "</style>\n",
       "<table border=\"1\" class=\"dataframe\">\n",
       "  <thead>\n",
       "    <tr style=\"text-align: right;\">\n",
       "      <th></th>\n",
       "      <th>order_time</th>\n",
       "      <th>order_id</th>\n",
       "      <th>allot_time</th>\n",
       "      <th>rider_id</th>\n",
       "      <th>last_mile_distance</th>\n",
       "      <th>alloted_orders</th>\n",
       "      <th>delivered_orders</th>\n",
       "      <th>cancelled</th>\n",
       "      <th>lifetime_order_count</th>\n",
       "      <th>reassignment_reason</th>\n",
       "      <th>session_time</th>\n",
       "      <th>allot_duration</th>\n",
       "    </tr>\n",
       "  </thead>\n",
       "  <tbody>\n",
       "    <tr>\n",
       "      <th>0</th>\n",
       "      <td>02</td>\n",
       "      <td>556753</td>\n",
       "      <td>02</td>\n",
       "      <td>11696</td>\n",
       "      <td>2.65</td>\n",
       "      <td>46.0</td>\n",
       "      <td>46.0</td>\n",
       "      <td>0</td>\n",
       "      <td>621.0</td>\n",
       "      <td>0</td>\n",
       "      <td>NaN</td>\n",
       "      <td>24.0</td>\n",
       "    </tr>\n",
       "    <tr>\n",
       "      <th>1</th>\n",
       "      <td>02</td>\n",
       "      <td>556754</td>\n",
       "      <td>02</td>\n",
       "      <td>18117</td>\n",
       "      <td>2.76</td>\n",
       "      <td>8.0</td>\n",
       "      <td>8.0</td>\n",
       "      <td>0</td>\n",
       "      <td>105.0</td>\n",
       "      <td>0</td>\n",
       "      <td>3.266667</td>\n",
       "      <td>41.0</td>\n",
       "    </tr>\n",
       "    <tr>\n",
       "      <th>2</th>\n",
       "      <td>02</td>\n",
       "      <td>556755</td>\n",
       "      <td>02</td>\n",
       "      <td>18623</td>\n",
       "      <td>4.80</td>\n",
       "      <td>1.0</td>\n",
       "      <td>1.0</td>\n",
       "      <td>0</td>\n",
       "      <td>66.0</td>\n",
       "      <td>0</td>\n",
       "      <td>9.816667</td>\n",
       "      <td>8.0</td>\n",
       "    </tr>\n",
       "    <tr>\n",
       "      <th>3</th>\n",
       "      <td>02</td>\n",
       "      <td>556756</td>\n",
       "      <td>02</td>\n",
       "      <td>15945</td>\n",
       "      <td>6.38</td>\n",
       "      <td>1.0</td>\n",
       "      <td>1.0</td>\n",
       "      <td>0</td>\n",
       "      <td>127.0</td>\n",
       "      <td>0</td>\n",
       "      <td>17.533333</td>\n",
       "      <td>32.0</td>\n",
       "    </tr>\n",
       "    <tr>\n",
       "      <th>4</th>\n",
       "      <td>03</td>\n",
       "      <td>556757</td>\n",
       "      <td>03</td>\n",
       "      <td>17589</td>\n",
       "      <td>4.01</td>\n",
       "      <td>34.0</td>\n",
       "      <td>34.0</td>\n",
       "      <td>0</td>\n",
       "      <td>84.0</td>\n",
       "      <td>0</td>\n",
       "      <td>1.350000</td>\n",
       "      <td>51.0</td>\n",
       "    </tr>\n",
       "  </tbody>\n",
       "</table>\n",
       "</div>"
      ],
      "text/plain": [
       "  order_time  order_id allot_time  rider_id  last_mile_distance  \\\n",
       "0         02    556753         02     11696                2.65   \n",
       "1         02    556754         02     18117                2.76   \n",
       "2         02    556755         02     18623                4.80   \n",
       "3         02    556756         02     15945                6.38   \n",
       "4         03    556757         03     17589                4.01   \n",
       "\n",
       "   alloted_orders  delivered_orders  cancelled  lifetime_order_count  \\\n",
       "0            46.0              46.0          0                 621.0   \n",
       "1             8.0               8.0          0                 105.0   \n",
       "2             1.0               1.0          0                  66.0   \n",
       "3             1.0               1.0          0                 127.0   \n",
       "4            34.0              34.0          0                  84.0   \n",
       "\n",
       "  reassignment_reason  session_time  allot_duration  \n",
       "0                   0           NaN            24.0  \n",
       "1                   0      3.266667            41.0  \n",
       "2                   0      9.816667             8.0  \n",
       "3                   0     17.533333            32.0  \n",
       "4                   0      1.350000            51.0  "
      ]
     },
     "execution_count": 54,
     "metadata": {},
     "output_type": "execute_result"
    }
   ],
   "source": [
    "df.head()"
   ]
  },
  {
   "cell_type": "code",
   "execution_count": 55,
   "id": "b6788259",
   "metadata": {
    "scrolled": true
   },
   "outputs": [
    {
     "data": {
      "text/html": [
       "<div>\n",
       "<style scoped>\n",
       "    .dataframe tbody tr th:only-of-type {\n",
       "        vertical-align: middle;\n",
       "    }\n",
       "\n",
       "    .dataframe tbody tr th {\n",
       "        vertical-align: top;\n",
       "    }\n",
       "\n",
       "    .dataframe thead th {\n",
       "        text-align: right;\n",
       "    }\n",
       "</style>\n",
       "<table border=\"1\" class=\"dataframe\">\n",
       "  <thead>\n",
       "    <tr style=\"text-align: right;\">\n",
       "      <th></th>\n",
       "      <th>order_time</th>\n",
       "      <th>order_id</th>\n",
       "      <th>allot_time</th>\n",
       "      <th>rider_id</th>\n",
       "      <th>last_mile_distance</th>\n",
       "      <th>alloted_orders</th>\n",
       "      <th>delivered_orders</th>\n",
       "      <th>lifetime_order_count</th>\n",
       "      <th>reassignment_reason</th>\n",
       "      <th>session_time</th>\n",
       "      <th>allot_duration</th>\n",
       "    </tr>\n",
       "  </thead>\n",
       "  <tbody>\n",
       "    <tr>\n",
       "      <th>0</th>\n",
       "      <td>10</td>\n",
       "      <td>130231</td>\n",
       "      <td>10</td>\n",
       "      <td>12884</td>\n",
       "      <td>4.54</td>\n",
       "      <td>216.0</td>\n",
       "      <td>215.0</td>\n",
       "      <td>747.0</td>\n",
       "      <td>0</td>\n",
       "      <td>273.400000</td>\n",
       "      <td>25.0</td>\n",
       "    </tr>\n",
       "    <tr>\n",
       "      <th>1</th>\n",
       "      <td>10</td>\n",
       "      <td>130232</td>\n",
       "      <td>10</td>\n",
       "      <td>3541</td>\n",
       "      <td>5.84</td>\n",
       "      <td>52.0</td>\n",
       "      <td>52.0</td>\n",
       "      <td>75.0</td>\n",
       "      <td>0</td>\n",
       "      <td>252.100000</td>\n",
       "      <td>1.0</td>\n",
       "    </tr>\n",
       "    <tr>\n",
       "      <th>2</th>\n",
       "      <td>10</td>\n",
       "      <td>130233</td>\n",
       "      <td>10</td>\n",
       "      <td>603</td>\n",
       "      <td>0.99</td>\n",
       "      <td>289.0</td>\n",
       "      <td>289.0</td>\n",
       "      <td>2214.0</td>\n",
       "      <td>0</td>\n",
       "      <td>241.383333</td>\n",
       "      <td>47.0</td>\n",
       "    </tr>\n",
       "    <tr>\n",
       "      <th>3</th>\n",
       "      <td>10</td>\n",
       "      <td>130234</td>\n",
       "      <td>10</td>\n",
       "      <td>3414</td>\n",
       "      <td>2.59</td>\n",
       "      <td>125.0</td>\n",
       "      <td>122.0</td>\n",
       "      <td>1020.0</td>\n",
       "      <td>0</td>\n",
       "      <td>291.933333</td>\n",
       "      <td>1.0</td>\n",
       "    </tr>\n",
       "    <tr>\n",
       "      <th>4</th>\n",
       "      <td>10</td>\n",
       "      <td>130235</td>\n",
       "      <td>10</td>\n",
       "      <td>1426</td>\n",
       "      <td>0.94</td>\n",
       "      <td>352.0</td>\n",
       "      <td>350.0</td>\n",
       "      <td>7284.0</td>\n",
       "      <td>0</td>\n",
       "      <td>247.133333</td>\n",
       "      <td>8.0</td>\n",
       "    </tr>\n",
       "  </tbody>\n",
       "</table>\n",
       "</div>"
      ],
      "text/plain": [
       "  order_time  order_id allot_time  rider_id  last_mile_distance  \\\n",
       "0         10    130231         10     12884                4.54   \n",
       "1         10    130232         10      3541                5.84   \n",
       "2         10    130233         10       603                0.99   \n",
       "3         10    130234         10      3414                2.59   \n",
       "4         10    130235         10      1426                0.94   \n",
       "\n",
       "   alloted_orders  delivered_orders  lifetime_order_count reassignment_reason  \\\n",
       "0           216.0             215.0                 747.0                   0   \n",
       "1            52.0              52.0                  75.0                   0   \n",
       "2           289.0             289.0                2214.0                   0   \n",
       "3           125.0             122.0                1020.0                   0   \n",
       "4           352.0             350.0                7284.0                   0   \n",
       "\n",
       "   session_time  allot_duration  \n",
       "0    273.400000            25.0  \n",
       "1    252.100000             1.0  \n",
       "2    241.383333            47.0  \n",
       "3    291.933333             1.0  \n",
       "4    247.133333             8.0  "
      ]
     },
     "execution_count": 55,
     "metadata": {},
     "output_type": "execute_result"
    }
   ],
   "source": [
    "test_df.head()"
   ]
  },
  {
   "cell_type": "code",
   "execution_count": 56,
   "id": "ff736b97",
   "metadata": {},
   "outputs": [],
   "source": [
    "df['order_time'] = df['order_time'].astype(int)"
   ]
  },
  {
   "cell_type": "code",
   "execution_count": 57,
   "id": "0916c31d",
   "metadata": {},
   "outputs": [],
   "source": [
    "test_df['order_time'] = test_df['order_time'].astype(int)"
   ]
  },
  {
   "cell_type": "code",
   "execution_count": 58,
   "id": "7a6179ce",
   "metadata": {},
   "outputs": [],
   "source": [
    "df['allot_time'] = df['allot_time'].astype(int)"
   ]
  },
  {
   "cell_type": "code",
   "execution_count": 59,
   "id": "826b3090",
   "metadata": {},
   "outputs": [],
   "source": [
    "test_df['allot_time'] = test_df['allot_time'].astype(int)"
   ]
  },
  {
   "cell_type": "code",
   "execution_count": 60,
   "id": "fc0929df",
   "metadata": {},
   "outputs": [
    {
     "data": {
      "image/png": "[encoded data removed]",
      "text/plain": [
       "<Figure size 432x288 with 1 Axes>"
      ]
     },
     "metadata": {
      "needs_background": "light"
     },
     "output_type": "display_data"
    },
    {
     "data": {
      "image/png": "[encoded data removed]",
      "text/plain": [
       "<Figure size 432x288 with 1 Axes>"
      ]
     },
     "metadata": {
      "needs_background": "light"
     },
     "output_type": "display_data"
    }
   ],
   "source": [
    "num_cols = ['order_time','allot_time']\n",
    "for col in num_cols:\n",
    "    sns.boxplot(y = df['cancelled'].astype('category'), x = col, data=df)\n",
    "    plt.show()"
   ]
  },
  {
   "cell_type": "code",
   "execution_count": 61,
   "id": "5a65dc03",
   "metadata": {},
   "outputs": [
    {
     "data": {
      "text/plain": [
       "order_time                int32\n",
       "order_id                  int64\n",
       "allot_time                int32\n",
       "rider_id                  int64\n",
       "last_mile_distance      float64\n",
       "alloted_orders          float64\n",
       "delivered_orders        float64\n",
       "cancelled                 int64\n",
       "lifetime_order_count    float64\n",
       "reassignment_reason      object\n",
       "session_time            float64\n",
       "allot_duration          float64\n",
       "dtype: object"
      ]
     },
     "execution_count": 61,
     "metadata": {},
     "output_type": "execute_result"
    }
   ],
   "source": [
    "df.dtypes"
   ]
  },
  {
   "cell_type": "code",
   "execution_count": 62,
   "id": "11eca56b",
   "metadata": {},
   "outputs": [
    {
     "data": {
      "text/plain": [
       "order_time                int32\n",
       "order_id                  int64\n",
       "allot_time                int32\n",
       "rider_id                  int64\n",
       "last_mile_distance      float64\n",
       "alloted_orders          float64\n",
       "delivered_orders        float64\n",
       "lifetime_order_count    float64\n",
       "reassignment_reason      object\n",
       "session_time            float64\n",
       "allot_duration          float64\n",
       "dtype: object"
      ]
     },
     "execution_count": 62,
     "metadata": {},
     "output_type": "execute_result"
    }
   ],
   "source": [
    "test_df.dtypes"
   ]
  },
  {
   "cell_type": "code",
   "execution_count": 63,
   "id": "df729006",
   "metadata": {},
   "outputs": [
    {
     "data": {
      "text/plain": [
       "0                                                                               436247\n",
       "Auto Reassignment basis Inaction. coreengine.tasks.repush_order_to_aa_bucket      7212\n",
       "Reassignment Request from SE portal.                                              5300\n",
       "Reassign                                                                          1241\n",
       "Name: reassignment_reason, dtype: int64"
      ]
     },
     "execution_count": 63,
     "metadata": {},
     "output_type": "execute_result"
    }
   ],
   "source": [
    "df['reassignment_reason'].value_counts()"
   ]
  },
  {
   "cell_type": "code",
   "execution_count": 64,
   "id": "3548534e",
   "metadata": {},
   "outputs": [],
   "source": [
    "df['reassignment_num'] = df['reassignment_reason'].replace({'Auto Reassignment basis Inaction. coreengine.tasks.repush_order_to_aa_bucket':'1', 'Reassignment Request from SE portal.': '2', 'Reassign' : '3'}).astype(float)\n"
   ]
  },
  {
   "cell_type": "code",
   "execution_count": 65,
   "id": "23056413",
   "metadata": {},
   "outputs": [
    {
     "data": {
      "image/png": "[encoded data removed]",
      "text/plain": [
       "<Figure size 432x288 with 1 Axes>"
      ]
     },
     "metadata": {
      "needs_background": "light"
     },
     "output_type": "display_data"
    }
   ],
   "source": [
    "num_cols = ['reassignment_num']\n",
    "for col in num_cols:\n",
    "    sns.boxplot(y = df['cancelled'].astype('category'), x = col, data=df)\n",
    "    plt.show()"
   ]
  },
  {
   "cell_type": "code",
   "execution_count": 66,
   "id": "7342867b",
   "metadata": {},
   "outputs": [],
   "source": [
    "df = df.drop(['reassignment_num', 'reassignment_reason'], axis = 1)"
   ]
  },
  {
   "cell_type": "code",
   "execution_count": 67,
   "id": "15ade905",
   "metadata": {},
   "outputs": [],
   "source": [
    "test_df = test_df.drop(['reassignment_reason'], axis = 1)"
   ]
  },
  {
   "cell_type": "code",
   "execution_count": 68,
   "id": "45b49a7c",
   "metadata": {},
   "outputs": [
    {
     "data": {
      "text/plain": [
       "order_time                int32\n",
       "order_id                  int64\n",
       "allot_time                int32\n",
       "rider_id                  int64\n",
       "last_mile_distance      float64\n",
       "alloted_orders          float64\n",
       "delivered_orders        float64\n",
       "cancelled                 int64\n",
       "lifetime_order_count    float64\n",
       "session_time            float64\n",
       "allot_duration          float64\n",
       "dtype: object"
      ]
     },
     "execution_count": 68,
     "metadata": {},
     "output_type": "execute_result"
    }
   ],
   "source": [
    "df.dtypes"
   ]
  },
  {
   "cell_type": "code",
   "execution_count": 69,
   "id": "a40c65b6",
   "metadata": {
    "scrolled": false
   },
   "outputs": [
    {
     "data": {
      "text/plain": [
       "order_time                int32\n",
       "order_id                  int64\n",
       "allot_time                int32\n",
       "rider_id                  int64\n",
       "last_mile_distance      float64\n",
       "alloted_orders          float64\n",
       "delivered_orders        float64\n",
       "lifetime_order_count    float64\n",
       "session_time            float64\n",
       "allot_duration          float64\n",
       "dtype: object"
      ]
     },
     "execution_count": 69,
     "metadata": {},
     "output_type": "execute_result"
    }
   ],
   "source": [
    "test_df.dtypes"
   ]
  },
  {
   "cell_type": "code",
   "execution_count": 70,
   "id": "54f6c173",
   "metadata": {},
   "outputs": [],
   "source": [
    "df.drop(['allot_duration', 'lifetime_order_count'], axis = 1, inplace = True)\n",
    "test_df.drop(['allot_duration','lifetime_order_count'], axis = 1, inplace = True)"
   ]
  },
  {
   "cell_type": "code",
   "execution_count": 88,
   "id": "4c687ecd",
   "metadata": {},
   "outputs": [
    {
     "data": {
      "text/plain": [
       "((667148, 7), (667148,))"
      ]
     },
     "execution_count": 88,
     "metadata": {},
     "output_type": "execute_result"
    }
   ],
   "source": [
    "from imblearn.over_sampling import SMOTE\n",
    "# Separate input features and target\n",
    "df = df.fillna(df.median())\n",
    "df = df.drop(['order_id'], axis = 1)\n",
    "X = df.drop(['cancelled'], axis =1)\n",
    "y = df['cancelled']\n",
    "from sklearn import preprocessing\n",
    "scaler = preprocessing.StandardScaler()\n",
    "x_scaled = scaler.fit_transform(X)\n",
    "X = pd.DataFrame(x_scaled)\n",
    "# setting up testing and training sets\n",
    "from sklearn.model_selection import train_test_split\n",
    "sm = SMOTE()\n",
    "X_train, y_train = sm.fit_resample(X, y)\n",
    "X_train.shape, y_train.shape"
   ]
  },
  {
   "cell_type": "code",
   "execution_count": 94,
   "id": "00632e29",
   "metadata": {
    "scrolled": true
   },
   "outputs": [],
   "source": [
    "from sklearn.ensemble import RandomForestClassifier\n",
    "model = RandomForestClassifier()\n",
    "model = model.fit(X_train , y_train)"
   ]
  },
  {
   "cell_type": "code",
   "execution_count": 95,
   "id": "d81e76d1",
   "metadata": {},
   "outputs": [],
   "source": [
    "test_df = test_df.fillna(test_df.median())"
   ]
  },
  {
   "cell_type": "code",
   "execution_count": 97,
   "id": "ea4bd144",
   "metadata": {},
   "outputs": [],
   "source": [
    "order_id = test_df['order_id']\n",
    "actual_X = test_df.drop(['order_id'], axis = 1)\n",
    "x_scaled = scaler.fit_transform(actual_X)\n",
    "actual_X = pd.DataFrame(x_scaled)\n",
    "pred_new = model.predict(actual_X)"
   ]
  },
  {
   "cell_type": "code",
   "execution_count": 98,
   "id": "ef23ad31",
   "metadata": {},
   "outputs": [
    {
     "data": {
      "text/plain": [
       "1    116001\n",
       "0     28843\n",
       "Name: cancelled, dtype: int64"
      ]
     },
     "execution_count": 98,
     "metadata": {},
     "output_type": "execute_result"
    }
   ],
   "source": [
    "ans_new = pd.DataFrame({'order_id': order_id, 'cancelled': pred_new})\n",
    "ans_new['cancelled'].value_counts()"
   ]
  },
  {
   "cell_type": "code",
   "execution_count": 100,
   "id": "8b471792",
   "metadata": {},
   "outputs": [],
   "source": [
    "ans_new.to_csv('ans_new1.csv', index = False)"
   ]
  }
 ],
 "metadata": {
  "kernelspec": {
   "display_name": "Python 3",
   "language": "python",
   "name": "python3"
  },
  "language_info": {
   "codemirror_mode": {
    "name": "ipython",
    "version": 3
   },
   "file_extension": ".py",
   "mimetype": "text/x-python",
   "name": "python",
   "nbconvert_exporter": "python",
   "pygments_lexer": "ipython3",
   "version": "3.8.8"
  }
 },
 "nbformat": 4,
 "nbformat_minor": 5
}
